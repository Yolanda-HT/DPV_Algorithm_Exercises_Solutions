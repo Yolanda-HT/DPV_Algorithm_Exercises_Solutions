{
 "cells": [
  {
   "cell_type": "markdown",
   "id": "6d779321",
   "metadata": {},
   "source": [
    "## 3.3 (Topological ordering example)\n",
    "\n",
    "-----"
   ]
  },
  {
   "cell_type": "markdown",
   "id": "92a60d16",
   "metadata": {},
   "source": [
    "(a)\n",
    "A: 1, 14; \n",
    "B: 15, 16; \n",
    "C: 2, 13; \n",
    "D: 3, 10; \n",
    "E: 11, 12; \n",
    "F: 4, 9; \n",
    "G: 5, 6; \n",
    "H: 7, 8; \n",
    "\n",
    "(b)\n",
    "Sources: A, B; \n",
    "Sinks: G, H\n",
    "\n",
    "(c)\n",
    "B, A, C, E, D, F, H, G\n",
    "\n",
    "(d)\n",
    "8"
   ]
  },
  {
   "cell_type": "markdown",
   "id": "34aac3b1",
   "metadata": {},
   "source": [
    "## 3.4 (SCC algorithm example)\n",
    "\n",
    "-----"
   ]
  },
  {
   "cell_type": "markdown",
   "id": "d8a2173d",
   "metadata": {},
   "source": [
    "(a) \n",
    "\n",
    "(i) {G, I, H}, {F, J, C, D}, {A}, {E}, {B}\n",
    "\n",
    "<font color=\"red\">Correct Answer: {𝐶, 𝐷, 𝐹 , 𝐽 }, {𝐺, 𝐻, 𝐼}, {𝐴}, {𝐸}, {𝐵}</font>\n",
    "\n",
    "<font color=\"red\"><b>Be very careful with marking explored edges when doing DFS!<b></font>\n",
    "\n",
    "(ii)\n",
    "{D, H, F, I, G}, {C}, {A, E, B}\n",
    "\n",
    "(b)\n",
    "\n",
    "(i) Sources: {B}, {E}; Sinks: {F, J, C, D}, {G, I, H}\n",
    "\n",
    "(ii) Sources: {A, E, B}; Sinks: {D, H, F, I, G}\n",
    "\n",
    "(c)\n",
    "\n",
    "(i) 2\n",
    "\n",
    "(ii) 1"
   ]
  },
  {
   "cell_type": "markdown",
   "id": "ef725cc5",
   "metadata": {},
   "source": [
    "## 3.5 (Reverse of graph)\n",
    "\n",
    "-----"
   ]
  },
  {
   "cell_type": "markdown",
   "id": "9892ee4d",
   "metadata": {},
   "source": [
    "Adjancy list format: E is collection of (u,v)\n",
    "\n",
    "Build a new graph by adding (v,u) for all edges\n",
    "\n",
    "O(m)\n",
    "\n",
    "<font color=\"red\">Correct Answer: O(m+n)</font>\n",
    "\n",
    "<font color=\"red\"><b>Visiting each node takes O(1) too, besides visiting each edge of the node<b></font>\n",
    "    \n",
    "<font color=\"red\"><b>Adjancy list format IS NOT THE SAME AS edge list!!<b></font>"
   ]
  },
  {
   "cell_type": "markdown",
   "id": "96be3e3e",
   "metadata": {},
   "source": [
    "<font color=\"blue\"><b>Sample Answer:<b></font>\n",
    "    \n",
    "<font color=\"blue\">\n",
    "(a) Algorithm:\n",
    "First, initialize an empty graph GR in (in adjancency list form) for n vertices where n = |V|. Then, for each u in V, iterate through the neighbors of u. For each neighbors v of u in G, add u as a neighbor of v in GR\n",
    "<br>\n",
    "<br>\n",
    "(b) Justification of Correctness:\n",
    "The reverse of a graph is one where the vertices are the same, but the direction of the edges are\n",
    "flipped. By adding edge (v,u) for each edge (u,v), we accomplish the objective.\n",
    "<br>\n",
    "<br>\n",
    "(c) Runtime Analysis:\n",
    "Creating new adjancy list takes O(n) time. Traversing the original graph to reverse all m edges takes O(n+m) time, with O(1) to add each edge. Overall run time is O(n) + O(n+m) = O(n+m), which is linear in the input\n",
    "</font>"
   ]
  },
  {
   "cell_type": "markdown",
   "id": "4384fa7a",
   "metadata": {},
   "source": [
    "## 3.15 (Computopia)\n",
    "\n",
    "-----"
   ]
  },
  {
   "cell_type": "markdown",
   "id": "d156d4b5",
   "metadata": {},
   "source": [
    "(a) Strongly connected component\n",
    "\n",
    "(b) Townhall is in a strongly connected component\n",
    "\n",
    "<font color=\"red\">Correct Answer: Townhall is in a sink SCC</font>"
   ]
  },
  {
   "cell_type": "markdown",
   "id": "d2dcce0f",
   "metadata": {},
   "source": [
    "<font color=\"blue\"><b>Part (a) Sample Answer:<b></font>\n",
    "    \n",
    "<font color=\"blue\">\n",
    "(a) Algorithm:\n",
    "We will represent the city in this problem as a directed graph G = (V, E), where vertices in V represent the intersections in the city and the directed edges in E represent the one-way streets of the city between intersections. The problem is then representd by determining whether a path from u to v exist for all (u,v) in V in linear time.\n",
    "<br>\n",
    "We can solve this problem by running the SCC algorithm and checking if there is a single SCC. We can do this by checking that the returned SCC metagraph has a single vertex (meaning the original graph is a single SCC). If that is the case, then we report the mayor's claim is TRUE. Otherwise, there is more than one SCC so we report that the mayor's claim is FALSE.\n",
    "<br>\n",
    "<br>\n",
    "(b) Justification of Correctness:\n",
    "This algorithm works because by modeling the original problem as a graph, we are able to efficiently solve the problem using the properties of an SCC, which is the presence of a path from every vertex to every other vertex in the same SCC. If the graph has a single SCC, then we know every intersection has a route to every other intersection. If there is more than one SCC, then there is at least one sink SCC and at least one source SCC, and the vertices (intersections) of the sink SCC(s) would not have a pth to the vertices (intersections) of the source SCC(s).\n",
    "<br>\n",
    "<br>\n",
    "(c) Runtime Analysis:\n",
    "Creating the graph representation of the city takes O(n+m) time to model the n intersections and m roads. Running the SCC algorithm takes O(n+m). Checking for a single vertex in the SCC metagraph takes O(1) constant time. The overall runtime is O(n+m), linear as required.\n",
    "</font>"
   ]
  },
  {
   "cell_type": "markdown",
   "id": "904bea64",
   "metadata": {},
   "source": [
    "<font color=\"blue\"><b>Part (b) Correct Answer:<b></font>\n",
    "    \n",
    "<font color=\"blue\">\n",
    "(a) Algorithm: \n",
    "The algorithm requires modeling the problem as a graph and computing its SCCs as in Part A (again,\n",
    "in 𝑂(𝑛 + 𝑚) time). We instead check if the town hall is in a sink SCC - that is, ensuring there are\n",
    "no edges directed out of the SCC containing the town hall. We can do this by examining the SCC\n",
    "metagraph DAG to ensure the SCC containing town hall has no outgoing edges. The mayor’s claim\n",
    "is TRUE if there are no outgoing edges from the town hall’s SCC, else it is FALSE.\n",
    "<br>\n",
    "<br>\n",
    "(b) Justification of Correctness:\n",
    "The weaker claim requires that the town hall resides in a sink SCC. If it lies in a sink SCC 𝑆, then we\n",
    "know from the town hall we can reach every other intersection in 𝑆 and from every other intersection\n",
    "in 𝑆 we can get to the town hall. And, if 𝑆 is not a sink SCC, then there are edges out of it, and\n",
    "therefore there are intersections that can be reached from the town hall but cannot get back to the\n",
    "town hall.\n",
    "<br>\n",
    "<br>\n",
    "(c) Runtime Analysis:\n",
    "As in part A, it takes linear 𝑂(𝑛+𝑚) time to model the problem as a graph and run the SCC algorithm.\n",
    "Checking the SCC metagraph for zero outgoing edges from the SCC labeled with ccnum[town hall]\n",
    "takes 𝑂(1). The total running time of this algorithm is 𝑂(𝑛 + 𝑚), which is linear time.\n",
    "</font>"
   ]
  },
  {
   "cell_type": "code",
   "execution_count": null,
   "id": "a095d023",
   "metadata": {},
   "outputs": [],
   "source": []
  }
 ],
 "metadata": {
  "kernelspec": {
   "display_name": "Python [conda env:plotting]",
   "language": "python",
   "name": "conda-env-plotting-py"
  },
  "language_info": {
   "codemirror_mode": {
    "name": "ipython",
    "version": 3
   },
   "file_extension": ".py",
   "mimetype": "text/x-python",
   "name": "python",
   "nbconvert_exporter": "python",
   "pygments_lexer": "ipython3",
   "version": "3.8.17"
  }
 },
 "nbformat": 4,
 "nbformat_minor": 5
}
