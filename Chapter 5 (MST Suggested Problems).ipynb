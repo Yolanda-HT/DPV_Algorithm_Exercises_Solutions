{
 "cells": [
  {
   "cell_type": "markdown",
   "id": "f872ead7",
   "metadata": {},
   "source": [
    "## 5.5\n",
    "\n",
    "Consider an undirected graph G = (V, E) with nonnegative edge weights we ≥ 0.  Suppose that you have computed a minimum spanning tree of G, and that you  have also computed shortest paths to all nodes from a particular node s ∈ V.  Now suppose each edge weight is increased by 1: the new weights are  w\u0002 e = we + 1.  \n",
    "\n",
    "(a) Does the minimum spanning tree change? Give an example where it  changes or prove it cannot change. \n",
    "\n",
    "(b) Do the shortest paths change? Give an example where they change or  prove they cannot change. \n",
    "\n",
    "-----"
   ]
  },
  {
   "cell_type": "markdown",
   "id": "cd6538dc",
   "metadata": {},
   "source": [
    "(a) MST does not change\n",
    "\n",
    "- With Kruskal's algorithm, apply cut property for every edge added, for both original G and new G'.\n",
    "- Since order and relation of weight of edges stay the same, a MST in G will still be MST in G'.\n",
    "\n",
    "(b) Shortest path can change\n",
    "\n",
    "- [A]-1-[B]-1-[C]-[D]-1-[E], [A]-5-[E]\n",
    "- [A]-2-[B]-2-[C]-2-[D]-2-[E], [A]-5-[E]"
   ]
  },
  {
   "cell_type": "markdown",
   "id": "2dffae63",
   "metadata": {},
   "source": [
    "## 5.6\n",
    "\n",
    "Let G = (V, E) be an undirected graph. Prove that if all its edge weights are  distinct, then it has a unique minimum spanning tree. \n",
    "\n",
    "-----"
   ]
  },
  {
   "cell_type": "markdown",
   "id": "fff6b811",
   "metadata": {},
   "source": [
    "- Every step in Kruskal's, apply cut property, there is only one choice of edge"
   ]
  },
  {
   "cell_type": "markdown",
   "id": "d8310fbd",
   "metadata": {},
   "source": [
    "## 5.7\n",
    "\n",
    "Show how to find the maximum spanning tree of a graph, that is, the spanning  tree of largest total weight. \n",
    "\n",
    "-----"
   ]
  },
  {
   "cell_type": "markdown",
   "id": "6c3c50e7",
   "metadata": {},
   "source": [
    " - Since Kruskal's algorithm works for negative weight, make all edge weight w_e into -w_e"
   ]
  },
  {
   "cell_type": "markdown",
   "id": "5d87d841",
   "metadata": {},
   "source": [
    "## 5.20\n",
    "\n",
    "Give a linear-time algorithm that takes as input a tree and determines whether it  has a perfect matching: a set of edges that touches each node exactly once. \n",
    "\n",
    "-----"
   ]
  },
  {
   "cell_type": "markdown",
   "id": "27fd677b",
   "metadata": {},
   "source": [
    "- Run DFS: create ancestor to decendent relationship\n",
    "- Reverse graph create Gr, run DFS again for topological ordering from sink to source\n",
    "- Visit each node from sink to source order\n",
    "    - For u with only one edge (u,v), mark both u and v as visited\n",
    "    - If v is visited, there is no perfect matching\n",
    "- Repeat until all are visited"
   ]
  },
  {
   "cell_type": "markdown",
   "id": "c2ee382a",
   "metadata": {},
   "source": [
    "## 5.22\n",
    "\n",
    "In this problem, we will develop a new algorithm for finding minimum spanning  trees. It is based upon the following property:  Pick any cycle in the graph, and let e be the heaviest edge in that cycle. Then  there is a minimum spanning tree that does not contain e. \n",
    "\n",
    "(a) Prove this property carefully.  \n",
    "\n",
    "(b) Here is the new MST algorithm. The input is some undirected graph  G = (V, E) (in adjacency list format) with edge weights {we}.  sort the edges according to their weights  for each edge e ∈ E, in decreasing order of we:  if e is part of a cycle of G:  G = G − e (that is, remove e from G)  return G  Prove that this algorithm is correct.  \n",
    "\n",
    "(c) On each iteration, the algorithm must check whether there is a cycle  containing a specific edge e. Give a linear-time algorithm for this task,  and justify its correctness.  \n",
    "\n",
    "(d) What is the overall time taken by this algorithm, in terms of |E |? \n",
    "\n",
    "-----"
   ]
  },
  {
   "cell_type": "markdown",
   "id": "83ee0da2",
   "metadata": {},
   "source": [
    "(a) Consider an MST T which contains e. Removing e breaks the tree into two connected components\n",
    "say S and V \\S. Since all the vertices of the cycle cannot still be connected after removing e, at\n",
    "least one edge, say e0 in the cycle must cross from S to V \\S. However, then replacing e by e0\n",
    "gives a tree T0 such that cost(T0) <= cost(T). Since T is an MST, T0 is also an MST which does\n",
    "not contain e.\n",
    "\n",
    "(b) If e is the heaviest edge in some cycle of G, then there is some MST T not containing e. However,\n",
    "then T is also an MST of G−e and so we can simply search for an MST of G−e. At every step,\n",
    "the algorithm creates a new graph (G − e) such that an MST of the new graph is also an MST\n",
    "of the old graph (G). Hence the output of the algorithm (when the new graph becomes a tree) is\n",
    "an MST of G.\n",
    "\n",
    "(c) An undirected edge (u, v) is part of cycle i↵ u and v are in the same connected component of\n",
    "G − e. Since the components can be found by DFS (or BFS), this gives a linear time algorithm.\n",
    "\n",
    "(d) The time for sorting is O(|E| log |E|) and checking for a cycle at every step takes O(|E|) time.\n",
    "Finally, we remove |E|−|V |+1 edges and hence the running time is O(|E| log |E|+(|E|−|V |)\n",
    "|E|) = O(|E|2)."
   ]
  },
  {
   "cell_type": "markdown",
   "id": "0bef8d7d",
   "metadata": {},
   "source": [
    "## 5.23\n",
    "\n",
    "You are given a graph G = (V, E) with positive edge weights, and a minimum  spanning tree T = (V, E') with respect to these weights; you may assume G and  T are given as adjacency lists. Now suppose the weight of a particular edge  e ∈ E is modified from w(e) to a new value ˆw(e). You wish to quickly update the  minimum spanning tree T to reflect this change, without recomputing the entire  tree from scratch. There are four cases. In each case give a linear-time algorithm  for updating the tree.  \n",
    "\n",
    "(a) e !∈ E' and ˆw(e) > w(e).  \n",
    "\n",
    "(b) e !∈ E' and ˆw(e) < w(e).  \n",
    "\n",
    "(c) e ∈ E' and ˆw(e) < w(e).  \n",
    "\n",
    "(d) e ∈ E' and ˆw(e) > w(e). \n",
    "\n",
    "-----"
   ]
  },
  {
   "cell_type": "markdown",
   "id": "55d1f2e3",
   "metadata": {},
   "source": [
    "(a) Since the change only increases the cost of some other spanning trees (those including e) and the\n",
    "cost of T is unchanged, it is still an MST.\n",
    "6\n",
    "(b) We include e in the tree, thus creating a cycle. We then remove the heaviest edge e0 in the cycle,\n",
    "which can be found in linear time, to get a new tree T0. It is intuitively clear that this algorithm\n",
    "should work, but a rigorous proof seems surprisingly tricky. To prove this, we argue that T0\n",
    "contains a least weight edge across every cut of G and is hence an MST.\n",
    "Note that since the only changed edge is e, T [ {e} already includes a least weight edge across\n",
    "every cut. We only removed e0 from this. However, any cut crossed by e0, must also be crossed\n",
    "by at least one more edge of the cycle, which must have weight less than or equal to e0. Since this\n",
    "edge is still present in T0, it contains a least weight edge across every cut.\n",
    "(c) The tree is still an MST if the weight of an edge in the tree is reduced. Hence, no changes are\n",
    "required.\n",
    "(d) We remove e from the tree to obtain two components, and hence a cut. We then include the\n",
    "lightest edge across the cut to get a new tree T0. We can now “build up” T0 using the cut\n",
    "property to show that it is an MST.\n",
    "Let X ✓ T0 be a set of edges that is part of some MST, and let e1 2 T0\\X. Then, T0\\{e1} gives\n",
    "a cut which is not crossed by any edge of X and across which e1 is the lightest edge. Hence,\n",
    "X [{e1} is also a part of some MST. Continuing this, we can grow X to X = T0, which must be\n",
    "then an MST."
   ]
  },
  {
   "cell_type": "code",
   "execution_count": null,
   "id": "7f3508ed",
   "metadata": {},
   "outputs": [],
   "source": []
  }
 ],
 "metadata": {
  "kernelspec": {
   "display_name": "Python [conda env:plotting]",
   "language": "python",
   "name": "conda-env-plotting-py"
  },
  "language_info": {
   "codemirror_mode": {
    "name": "ipython",
    "version": 3
   },
   "file_extension": ".py",
   "mimetype": "text/x-python",
   "name": "python",
   "nbconvert_exporter": "python",
   "pygments_lexer": "ipython3",
   "version": "3.8.17"
  }
 },
 "nbformat": 4,
 "nbformat_minor": 5
}
