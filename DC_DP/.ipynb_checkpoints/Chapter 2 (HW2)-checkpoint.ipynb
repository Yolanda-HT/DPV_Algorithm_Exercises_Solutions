{
 "cells": [
  {
   "cell_type": "markdown",
   "id": "382006e7",
   "metadata": {},
   "source": [
    "## 2.1"
   ]
  },
  {
   "cell_type": "code",
   "execution_count": 3,
   "id": "856e887c",
   "metadata": {},
   "outputs": [],
   "source": [
    "def div_conc(X, Y):\n",
    "    X = \"0\" + X if len(X) % 2 else X\n",
    "    Y = \"0\" + Y if len(Y) % 2 else Y\n",
    "    \n",
    "    max_len = max(len(X), len(Y))\n",
    "    X, Y = X.zfill(max_len), Y.zfill(max_len)\n",
    "        \n",
    "    X_L, X_R = X[:int(len(X)/2)], X[int(len(X)/2):]\n",
    "    Y_L, Y_R = Y[:int(len(Y)/2)], Y[int(len(Y)/2):]\n",
    "    \n",
    "    X_L, X_R = X_L or \"0\", X_R or \"0\"\n",
    "    Y_L, Y_R = Y_L or \"0\", Y_R or \"0\"\n",
    "    \n",
    "    print('-----', X, Y)\n",
    "    print(X_L, X_R, \"-\", Y_L, Y_R)\n",
    "\n",
    "    if len(X_L) > 1 or len(Y_L) > 1:\n",
    "        A = div_conc(X_L, Y_L)\n",
    "    else:\n",
    "        A = int(X_L, 2)*int(Y_L, 2)\n",
    "        \n",
    "    if len(X_R) > 1 or len(Y_R) > 1:\n",
    "        B = div_conc(X_R, Y_R)\n",
    "    else:\n",
    "        B = int(X_R, 2)*int(Y_R, 2)\n",
    "    \n",
    "    X_L_plus_X_R = int(X_L, 2) + int(X_R, 2)\n",
    "    Y_L_plus_Y_R = int(Y_L, 2) + int(Y_R, 2)\n",
    "    \n",
    "    X_L_plus_X_R = format(X_L_plus_X_R, 'b')\n",
    "    Y_L_plus_Y_R = format(Y_L_plus_Y_R, 'b')\n",
    "    if len(X_L_plus_X_R) > 1 or len(X_L_plus_X_R) > 1:\n",
    "        C = div_conc(X_L_plus_X_R, Y_L_plus_Y_R)\n",
    "    else:\n",
    "        C = int(X_L_plus_X_R, 2) * int(Y_L_plus_Y_R, 2)\n",
    "    \n",
    "    result = A*2**(len(X)) + (C - A - B)*2**(len(X)/2) + B\n",
    "    return result"
   ]
  },
  {
   "cell_type": "code",
   "execution_count": 4,
   "id": "2810ae96",
   "metadata": {},
   "outputs": [
    {
     "name": "stdout",
     "output_type": "stream",
     "text": [
      "----- 10011011 10111010\n",
      "1001 1011 - 1011 1010\n",
      "----- 1001 1011\n",
      "10 01 - 10 11\n",
      "----- 10 10\n",
      "1 0 - 1 0\n",
      "----- 01 11\n",
      "0 1 - 1 1\n",
      "----- 0011 0101\n",
      "00 11 - 01 01\n",
      "----- 00 01\n",
      "0 0 - 0 1\n",
      "----- 11 01\n",
      "1 1 - 0 1\n",
      "----- 10 01\n",
      "1 0 - 0 1\n",
      "----- 11 10\n",
      "1 1 - 1 0\n",
      "----- 10 01\n",
      "1 0 - 0 1\n",
      "----- 1011 1010\n",
      "10 11 - 10 10\n",
      "----- 10 10\n",
      "1 0 - 1 0\n",
      "----- 11 10\n",
      "1 1 - 1 0\n",
      "----- 10 01\n",
      "1 0 - 0 1\n",
      "----- 0101 0100\n",
      "01 01 - 01 00\n",
      "----- 01 01\n",
      "0 1 - 0 1\n",
      "----- 01 00\n",
      "0 1 - 0 0\n",
      "----- 10 01\n",
      "1 0 - 0 1\n",
      "----- 010100 010101\n",
      "010 100 - 010 101\n",
      "----- 0010 0010\n",
      "00 10 - 00 10\n",
      "----- 00 00\n",
      "0 0 - 0 0\n",
      "----- 10 10\n",
      "1 0 - 1 0\n",
      "----- 10 10\n",
      "1 0 - 1 0\n",
      "----- 0100 0101\n",
      "01 00 - 01 01\n",
      "----- 01 01\n",
      "0 1 - 0 1\n",
      "----- 00 01\n",
      "0 0 - 0 1\n",
      "----- 0110 0111\n",
      "01 10 - 01 11\n",
      "----- 01 01\n",
      "0 1 - 0 1\n",
      "----- 10 11\n",
      "1 0 - 1 1\n",
      "----- 0011 0100\n",
      "00 11 - 01 00\n",
      "----- 00 01\n",
      "0 0 - 0 1\n",
      "----- 11 00\n",
      "1 1 - 0 0\n",
      "----- 10 00\n",
      "1 0 - 0 0\n",
      "----- 11 01\n",
      "1 1 - 0 1\n",
      "----- 10 01\n",
      "1 0 - 0 1\n"
     ]
    },
    {
     "data": {
      "text/plain": [
       "28830.0"
      ]
     },
     "execution_count": 4,
     "metadata": {},
     "output_type": "execute_result"
    }
   ],
   "source": [
    "X = \"10011011\"\n",
    "Y = \"10111010\"\n",
    "div_conc(X, Y)"
   ]
  },
  {
   "cell_type": "code",
   "execution_count": null,
   "id": "3a0faadd",
   "metadata": {},
   "outputs": [],
   "source": []
  }
 ],
 "metadata": {
  "kernelspec": {
   "display_name": "Python [conda env:root] *",
   "language": "python",
   "name": "conda-root-py"
  },
  "language_info": {
   "codemirror_mode": {
    "name": "ipython",
    "version": 3
   },
   "file_extension": ".py",
   "mimetype": "text/x-python",
   "name": "python",
   "nbconvert_exporter": "python",
   "pygments_lexer": "ipython3",
   "version": "3.11.4"
  }
 },
 "nbformat": 4,
 "nbformat_minor": 5
}
