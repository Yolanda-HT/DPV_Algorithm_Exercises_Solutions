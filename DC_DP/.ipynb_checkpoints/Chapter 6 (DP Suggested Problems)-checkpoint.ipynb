{
 "cells": [
  {
   "cell_type": "markdown",
   "id": "87376601",
   "metadata": {},
   "source": [
    "## 6.2 \n",
    "\n",
    "You are going on a long trip. You start on the road at mile post 0. Along the way  there are n hotels, at mile posts a1 < a2 < ··· < an, where each ai is measured  from the starting point. The only places you are allowed to stop are at these  hotels, but you can choose which of the hotels you stop at. You must stop at the  final hotel (at distance an), which is your destination.  You’d ideally like to travel 200 miles a day, but this may not be possible  (depending on the spacing of the hotels). If you travel x miles during a day, the  penalty for that day is (200 − x)2. You want to plan your trip so as to minimize  the total penalty—that is, the sum, over all travel days, of the daily penalties.  Give an efficient algorithm that determines the optimal sequence of hotels at  which to stop."
   ]
  },
  {
   "cell_type": "markdown",
   "id": "48eda1ac",
   "metadata": {},
   "source": [
    "### Subproblem definition\n",
    "T(i) is length n (length of input $a_1, a_2, ... a_n$)\n",
    "### Recurrence definition\n",
    "T(0) = ...\n",
    "T(i) = (bound of i...)\n",
    "### Implementation analysis\n",
    "- Number of subproblems\n",
    "- Runtime to fill the table\n",
    "- How/where the final return is extracted from that table\n",
    "- Runtime to extract the final return"
   ]
  },
  {
   "cell_type": "markdown",
   "id": "b195115c",
   "metadata": {},
   "source": [
    "## 6.3"
   ]
  },
  {
   "cell_type": "markdown",
   "id": "42f5205b",
   "metadata": {},
   "source": [
    "### Subproblem definition\n",
    "T(i) is ...\n",
    "### Recurrence definition\n",
    "T(0) = ...\n",
    "T(i) = (bound of i...)\n",
    "### Implementation analysis\n",
    "- Number of subproblems\n",
    "- Runtime to fill the table\n",
    "- How/where the final return is extracted from that table\n",
    "- Runtime to extract the final return"
   ]
  },
  {
   "cell_type": "markdown",
   "id": "f77c33d2",
   "metadata": {},
   "source": [
    "## 6.5"
   ]
  },
  {
   "cell_type": "code",
   "execution_count": null,
   "id": "daa75653",
   "metadata": {},
   "outputs": [],
   "source": []
  },
  {
   "cell_type": "markdown",
   "id": "98408c4c",
   "metadata": {},
   "source": [
    "## 6.6"
   ]
  },
  {
   "cell_type": "code",
   "execution_count": null,
   "id": "b030ea8a",
   "metadata": {},
   "outputs": [],
   "source": []
  },
  {
   "cell_type": "markdown",
   "id": "85286b3c",
   "metadata": {},
   "source": [
    "## 6.7"
   ]
  },
  {
   "cell_type": "code",
   "execution_count": null,
   "id": "05411229",
   "metadata": {},
   "outputs": [],
   "source": []
  },
  {
   "cell_type": "markdown",
   "id": "f6f530ff",
   "metadata": {},
   "source": [
    "## 6.9"
   ]
  },
  {
   "cell_type": "code",
   "execution_count": null,
   "id": "7ed4f999",
   "metadata": {},
   "outputs": [],
   "source": []
  },
  {
   "cell_type": "markdown",
   "id": "5c311953",
   "metadata": {},
   "source": [
    "## 6.11"
   ]
  },
  {
   "cell_type": "code",
   "execution_count": null,
   "id": "cc95b7ce",
   "metadata": {},
   "outputs": [],
   "source": []
  },
  {
   "cell_type": "markdown",
   "id": "b618669b",
   "metadata": {},
   "source": [
    "## 6.17"
   ]
  },
  {
   "cell_type": "code",
   "execution_count": null,
   "id": "3bc438b2",
   "metadata": {},
   "outputs": [],
   "source": []
  },
  {
   "cell_type": "markdown",
   "id": "48cd6d44",
   "metadata": {},
   "source": [
    "## 6.22"
   ]
  },
  {
   "cell_type": "code",
   "execution_count": null,
   "id": "824c34b4",
   "metadata": {},
   "outputs": [],
   "source": []
  },
  {
   "cell_type": "markdown",
   "id": "fb98fa7a",
   "metadata": {},
   "source": [
    "## 6.25"
   ]
  },
  {
   "cell_type": "code",
   "execution_count": null,
   "id": "a49d78d9",
   "metadata": {},
   "outputs": [],
   "source": []
  },
  {
   "cell_type": "markdown",
   "id": "5185ddfb",
   "metadata": {},
   "source": [
    "## 6.26"
   ]
  },
  {
   "cell_type": "code",
   "execution_count": null,
   "id": "8a5b0fa1",
   "metadata": {},
   "outputs": [],
   "source": []
  },
  {
   "cell_type": "markdown",
   "id": "3f253927",
   "metadata": {},
   "source": [
    "## 6.27"
   ]
  },
  {
   "cell_type": "code",
   "execution_count": null,
   "id": "c95d69b7",
   "metadata": {},
   "outputs": [],
   "source": []
  },
  {
   "cell_type": "markdown",
   "id": "8df9938a",
   "metadata": {},
   "source": [
    "## 6.28"
   ]
  },
  {
   "cell_type": "code",
   "execution_count": null,
   "id": "b3ccce48",
   "metadata": {},
   "outputs": [],
   "source": []
  },
  {
   "cell_type": "markdown",
   "id": "60a15e18",
   "metadata": {},
   "source": [
    "## 6.29"
   ]
  },
  {
   "cell_type": "code",
   "execution_count": null,
   "id": "d7cbe296",
   "metadata": {},
   "outputs": [],
   "source": []
  },
  {
   "cell_type": "markdown",
   "id": "f67f114d",
   "metadata": {},
   "source": [
    "## 6.30"
   ]
  },
  {
   "cell_type": "code",
   "execution_count": null,
   "id": "2d5ae1ef",
   "metadata": {},
   "outputs": [],
   "source": []
  },
  {
   "cell_type": "code",
   "execution_count": null,
   "id": "547d1c52",
   "metadata": {},
   "outputs": [],
   "source": []
  }
 ],
 "metadata": {
  "kernelspec": {
   "display_name": "Python [conda env:root] *",
   "language": "python",
   "name": "conda-root-py"
  },
  "language_info": {
   "codemirror_mode": {
    "name": "ipython",
    "version": 3
   },
   "file_extension": ".py",
   "mimetype": "text/x-python",
   "name": "python",
   "nbconvert_exporter": "python",
   "pygments_lexer": "ipython3",
   "version": "3.11.4"
  }
 },
 "nbformat": 4,
 "nbformat_minor": 5
}
