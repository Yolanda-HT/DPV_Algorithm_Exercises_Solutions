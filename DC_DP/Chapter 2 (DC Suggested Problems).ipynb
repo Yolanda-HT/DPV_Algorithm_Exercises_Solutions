{
 "cells": [
  {
   "cell_type": "markdown",
   "id": "dc390d6c",
   "metadata": {},
   "source": [
    "## 2.4\n",
    "Suppose you are choosing between the following three algorithms:  \n",
    "- Algorithm A solves problems by dividing them into five subproblems of half  the size, recursively solving each subproblem, and then combining the  solutions in linear time.  \n",
    "- Algorithm B solves problems of size n by recursively solving two  subproblems of size n − 1 and then combining the solutions in constant time.  \n",
    "- Algorithm C solves problems of size n by dividing them into nine  subproblems of size n/3, recursively solving each subproblem, and then  combining the solutions in O(n2) time.  What are the running times of each of these algorithms (in big-O notation), and  which would you choose? "
   ]
  },
  {
   "cell_type": "markdown",
   "id": "3bfd2bdf",
   "metadata": {},
   "source": [
    "-----\n",
    "A: T(n) = 5[T(n/2)] + O(n)\n",
    "- T(n) = $O(n^{log_2 5})$\n",
    "\n",
    "B: T(n) = 2[T(n-1)] + O(1)\n",
    "- T(n) = $O(2^n)$\n",
    "\n",
    "C: T(n) = 9[T(n/3)] + O(n^2)\n",
    "- T(n) = $n^2 log(n)$\n",
    "\n",
    "Choose C"
   ]
  },
  {
   "cell_type": "markdown",
   "id": "4f6b0549",
   "metadata": {},
   "source": [
    "## 2.12\n",
    "How many lines, as a function of n (in \u0004(·) form), does the following program  print? Write a recurrence and solve it. You may assume n is a power of 2.  \n",
    "\n",
    "```\n",
    "function f(n)  \n",
    "    if n > 1:  \n",
    "        print line(“still going'')  \n",
    "        f(n/2)  \n",
    "        f(n/2) \n",
    "```"
   ]
  },
  {
   "cell_type": "markdown",
   "id": "5fe05547",
   "metadata": {},
   "source": [
    "-----\n",
    "O(n)"
   ]
  },
  {
   "cell_type": "markdown",
   "id": "29acbe2a",
   "metadata": {},
   "source": [
    "## 2.13\n",
    "A binary tree is full if all of its vertices have either zero or two children. Let Bn  denote the number of full binary trees with n vertices.  \n",
    "\n",
    "(a) By drawing out all full binary trees with 3, 5, or 7 vertices, determine the  exact values of B3, B5, and B7. Why have we left out even numbers of  vertices, like B4?  \n",
    "(b) For general n, derive a recurrence relation for Bn.  \n",
    "(c) Show by induction that Bn is 2\u0002(n). "
   ]
  },
  {
   "cell_type": "markdown",
   "id": "f02d03cd",
   "metadata": {},
   "source": [
    "-----\n",
    "(a) $B_3 = 1$, $B_5 = 2$, $B_7 = 5$. It is impossible to have even number vertices.\n",
    "\n",
    "(b) $B_{n+2} = \\sum_{i=1}^{n+1} B_i B_{n+1-i}$"
   ]
  },
  {
   "cell_type": "markdown",
   "id": "4f90f484",
   "metadata": {},
   "source": [
    "## 2.15\n",
    "In our median-finding algorithm (Section 2.4), a basic primitive is the split  operation, which takes as input an array S and a value v and then divides S into  three sets: the elements less than v, the elements equal to v, and the elements  greater than v. Show how to implement this split operation in place, that is,  without allocating new memory. "
   ]
  },
  {
   "cell_type": "markdown",
   "id": "940f942b",
   "metadata": {},
   "source": [
    "```\n",
    "function split(a[1,...,n], v)\n",
    "\n",
    "# stored_position: the values stored in the beginning of the array that are less than v\n",
    "stored_position = 1\n",
    "\n",
    "# Go through the array and store the values less than v in the beginning\n",
    "for i in 1 ... n:\n",
    "    if a[i] < v:\n",
    "        swap a[i] and a[stored_position]\n",
    "        stored_position += 1\n",
    "\n",
    "# Go through the array and store the values equal to v in the middle\n",
    "for i in stored_position ... n:\n",
    "    if a[i] == v:\n",
    "        swap a[i] and a[stored_position]\n",
    "        stored_position += 1\n",
    "\n",
    "```"
   ]
  },
  {
   "cell_type": "markdown",
   "id": "3f6f1e17",
   "metadata": {},
   "source": [
    "## 2.16\n",
    "You are given an infinite array A[·] in which the first n cells contain integers in  sorted order and the rest of the cells are filled with ∞. You are not given the  value of n. Describe an algorithm that takes an integer x as input and finds a position in the array containing x, if such a position exists, in O(log n) time. (If  you are disturbed by the fact that the array A has infinite length, assume instead  that it is of length n, but that you don’t know this length, and that the  implementation of the array data type in your programming language returns the  error message ∞ whenever elements A[i] with i > n are accessed.) "
   ]
  },
  {
   "cell_type": "markdown",
   "id": "76b3b8ac",
   "metadata": {},
   "source": [
    "-----\n",
    "- Define a block of indices between $2^k$ and $2^{k+1}$ where integer $k \\geq 0$\n",
    "- Step 1: find the block that contains $ \\infty $, let the block be denoted $2^K$ to $2^{K+1}$\n",
    "- Step 2: binary search between indices 1 and $2^{K+1}$"
   ]
  },
  {
   "cell_type": "markdown",
   "id": "9f72f416",
   "metadata": {},
   "source": [
    "## 2.17\n",
    "Given a sorted array of distinct integers A[1,..., n], you want to find out  whether there is an index i for which A[i] = i. Give a divide-and-conquer  algorithm that runs in time O(log n). "
   ]
  },
  {
   "cell_type": "markdown",
   "id": "17189856",
   "metadata": {},
   "source": [
    "-----\n",
    "First examine the middle element A[n2\n",
    "]. If A[n2\n",
    "] = n2\n",
    ", we are done. If A[n2\n",
    "] > n2\n",
    ", then every subsequent\n",
    "element will also be bigger than its index since the array values grow at least as fast as the indices.\n",
    "Similarly, if A[n2\n",
    "] < n2\n",
    ", then every previous element in the array will be less than its index by the same\n",
    "reasoning. So after the comparison, we only need to examine half of the array. We can recurse on the\n",
    "appropriate half of the array. If we continue this division until we get down to a single element and\n",
    "this element does not have the desired property, then such an element does not exist in A. We do a\n",
    "constant amount of work with each function call. So our recurrence relation is T(n) = T(n/2)+O(1),\n",
    "which solves to T(n) = O(log n)."
   ]
  },
  {
   "cell_type": "markdown",
   "id": "0c494d07",
   "metadata": {},
   "source": [
    "## 2.18"
   ]
  },
  {
   "cell_type": "markdown",
   "id": "aa466d9c",
   "metadata": {},
   "source": [
    "-----\n",
    "As in the ⌦(n log n) lower bound for sorting on page 52 we can look at a comparison-based algorithm\n",
    "for search in a sorted array as a binary tree in which a path from the root to a leaf represents a run of\n",
    "the algorithm: at every node a comparison takes place and, according to its result, a new comparison\n",
    "is performed. A leaf of the tree represents an output of the algorithm, i.e. the index of the element x\n",
    "that we are searching or a special value indicating the element x does not appear in the array. Now,\n",
    "all possible indices must appear as leaves or the algorithm will fail when x is at one of the missing\n",
    "indices. Hence, the tree must have at least n leaves, implying its depth must be ⌦(log n), i.e. in the\n",
    "worst case it must perform at least ⌦(log n) comparisons."
   ]
  },
  {
   "cell_type": "markdown",
   "id": "b7cecf2e",
   "metadata": {},
   "source": [
    "## 2.19\n",
    "A k-way merge operation. Suppose you have k sorted arrays, each with  n elements, and you want to combine them into a single sorted array of  kn elements.  \n",
    "\n",
    "(a) Here’s one strategy: Using the merge procedure from Section 2.3, merge  the first two arrays, then merge in the third, then merge in the fourth,  and so on. What is the time complexity of this algorithm, in terms of k  and n? \n",
    "\n",
    "(b) Give a more efficient solution to this problem, using divide-and-conquer. "
   ]
  },
  {
   "cell_type": "code",
   "execution_count": null,
   "id": "25fe47de",
   "metadata": {},
   "outputs": [],
   "source": []
  },
  {
   "cell_type": "markdown",
   "id": "04b48b95",
   "metadata": {},
   "source": [
    "## 2.20\n",
    "Show that any array of integers x[1... n] can be sorted in O(n + M) time, where  \n",
    "M = maxi xi − mini xi \n",
    "\n",
    "For small M, this is linear time: why doesn’t the \u0002(nlog n) lower bound apply in  this case?  "
   ]
  },
  {
   "cell_type": "markdown",
   "id": "0d7fb49b",
   "metadata": {},
   "source": [
    "-----\n",
    "We keep M + 1 counters, one for each of the possible values of the array elements. We can use these\n",
    "counters to compute the number of elements of each value by a single O(n)-time pass through the\n",
    "5\n",
    "array. Then, we can obtain a sorted version of x by filling a new array with the prescribed numbers\n",
    "of elements of each value, looping through the values in ascending order. Notice that the ⌦(n log n)\n",
    "bound does not apply in this case, as this algorithm is not comparison-based."
   ]
  },
  {
   "cell_type": "markdown",
   "id": "f528c0f9",
   "metadata": {},
   "source": [
    "## 2.22\n",
    "You are given two sorted lists of size m and n. Give an O(log m + log n) time  algorithm for computing the kth smallest element in the union of the two  lists. "
   ]
  },
  {
   "cell_type": "markdown",
   "id": "2d6a8143",
   "metadata": {},
   "source": [
    "-----\n",
    "Suppose we are searching for the kth smallest element sk in the union of the lists a[1, · · · ,m] and\n",
    "b[1, · · · , n]. Because we are searching for the kth smallest element, we can restrict our attention to\n",
    "the arrays a[1, · · · , k] and b[1, · · · , k]. If k > m or k > n, we can take all the elements with index\n",
    "larger than the array boundary to have infinite value. Our algorithm starts o↵ by comparing elements\n",
    "a[bk/2c] and b[dk/2e]. Suppose a[bk/2c] > b[dk/2e]. Then, in the union of a and b there can be at\n",
    "most k − 2 elements smaller than b[dk/2e], i.e. a[1, · · · , bk/2c − 1] and b[1, · · · , dk/2e − 1], and we\n",
    "must necessarily have sk > b[dk/2e]. Similarly, all elements a[1, · · · , bk/2c] and b[1, · · · , dk/2e] will be\n",
    "smaller than a[bk/2c+1]; but these are k elements, so we must have sk < a[bk/2c+1]. This shows that\n",
    "sk must be contained in the union of the subarrays a[1, · · · , bk/2c] and b[dk/2e + 1, k]. In particular,\n",
    "because we discarded dk/2e elements smaller than sk, sk will be the bk/2cth smallest element in this\n",
    "union. We can then find sk by recursing on this smaller problem. The case for a[bk/2c] < b[dk/2e] is\n",
    "symmetric. The last case, which is also the base case of the recursion, is a[bk/2c] = b[dk/2e], for which\n",
    "we have sk = a[bk/2c] = b[dk/2e].\n",
    "At every step we halve the number of elements we consider, so the algorithm will terminate in log(2k)\n",
    "recursive calls. Assuming the comparison takes constant time, the algorithm runs in time O(log k),\n",
    "which is O(log(m + n)), as we must have k  m + n for the kth smallest element to exist."
   ]
  },
  {
   "cell_type": "markdown",
   "id": "3814c3e0",
   "metadata": {},
   "source": [
    "## 2.27"
   ]
  },
  {
   "cell_type": "code",
   "execution_count": null,
   "id": "af0a6543",
   "metadata": {},
   "outputs": [],
   "source": []
  },
  {
   "cell_type": "markdown",
   "id": "ac2fd014",
   "metadata": {},
   "source": [
    "## 2.28"
   ]
  },
  {
   "cell_type": "code",
   "execution_count": null,
   "id": "6e96d9a6",
   "metadata": {},
   "outputs": [],
   "source": []
  },
  {
   "cell_type": "markdown",
   "id": "59a5eeee",
   "metadata": {},
   "source": [
    "## 2.32"
   ]
  },
  {
   "cell_type": "code",
   "execution_count": null,
   "id": "8a02e73c",
   "metadata": {},
   "outputs": [],
   "source": []
  }
 ],
 "metadata": {
  "kernelspec": {
   "display_name": "Python [conda env:root] *",
   "language": "python",
   "name": "conda-root-py"
  },
  "language_info": {
   "codemirror_mode": {
    "name": "ipython",
    "version": 3
   },
   "file_extension": ".py",
   "mimetype": "text/x-python",
   "name": "python",
   "nbconvert_exporter": "python",
   "pygments_lexer": "ipython3",
   "version": "3.11.4"
  }
 },
 "nbformat": 4,
 "nbformat_minor": 5
}
