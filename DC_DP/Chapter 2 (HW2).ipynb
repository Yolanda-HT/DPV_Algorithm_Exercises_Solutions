{
 "cells": [
  {
   "cell_type": "markdown",
   "id": "382006e7",
   "metadata": {},
   "source": [
    "## 2.1\n",
    "\n",
    "Use the divide-and-conquer integer multiplication algorithm to multiply the two  binary integers 10011011 and 10111010. "
   ]
  },
  {
   "cell_type": "code",
   "execution_count": 7,
   "id": "856e887c",
   "metadata": {},
   "outputs": [],
   "source": [
    "def div_conc(X, Y):\n",
    "    X = \"0\" + X if len(X) % 2 else X\n",
    "    Y = \"0\" + Y if len(Y) % 2 else Y\n",
    "    \n",
    "    max_len = max(len(X), len(Y))\n",
    "    X, Y = X.zfill(max_len), Y.zfill(max_len)\n",
    "        \n",
    "    X_L, X_R = X[:int(len(X)/2)], X[int(len(X)/2):]\n",
    "    Y_L, Y_R = Y[:int(len(Y)/2)], Y[int(len(Y)/2):]\n",
    "    \n",
    "    X_L, X_R = X_L or \"0\", X_R or \"0\"\n",
    "    Y_L, Y_R = Y_L or \"0\", Y_R or \"0\"\n",
    "\n",
    "    if len(X_L) > 1 or len(Y_L) > 1:\n",
    "        A = div_conc(X_L, Y_L)\n",
    "    else:\n",
    "        A = int(X_L, 2)*int(Y_L, 2)\n",
    "        \n",
    "    if len(X_R) > 1 or len(Y_R) > 1:\n",
    "        B = div_conc(X_R, Y_R)\n",
    "    else:\n",
    "        B = int(X_R, 2)*int(Y_R, 2)\n",
    "    \n",
    "    X_L_plus_X_R = int(X_L, 2) + int(X_R, 2)\n",
    "    Y_L_plus_Y_R = int(Y_L, 2) + int(Y_R, 2)\n",
    "    \n",
    "    X_L_plus_X_R = format(X_L_plus_X_R, 'b')\n",
    "    Y_L_plus_Y_R = format(Y_L_plus_Y_R, 'b')\n",
    "    if len(X_L_plus_X_R) > 1 or len(X_L_plus_X_R) > 1:\n",
    "        C = div_conc(X_L_plus_X_R, Y_L_plus_Y_R)\n",
    "    else:\n",
    "        C = int(X_L_plus_X_R, 2) * int(Y_L_plus_Y_R, 2)\n",
    "    \n",
    "    result = A*2**(len(X)) + (C - A - B)*2**(len(X)/2) + B\n",
    "    return result"
   ]
  },
  {
   "cell_type": "code",
   "execution_count": 8,
   "id": "2810ae96",
   "metadata": {},
   "outputs": [
    {
     "data": {
      "text/plain": [
       "28830.0"
      ]
     },
     "execution_count": 8,
     "metadata": {},
     "output_type": "execute_result"
    }
   ],
   "source": [
    "X = \"10011011\"\n",
    "Y = \"10111010\"\n",
    "div_conc(X, Y)"
   ]
  },
  {
   "cell_type": "markdown",
   "id": "6d41608f",
   "metadata": {},
   "source": [
    "## 2.5 \n",
    "\n",
    "Solve the following recurrence relations and give a bound for each of them.  \n",
    "(a) T(n) = 2T(n/3) + 1  \n",
    "(b) T(n) = 5T(n/4) + n  \n",
    "(c) T(n) = 7T(n/7) + n  \n",
    "(d) T(n) = 9T(n/3) + n2 \n",
    "(e) T(n) = 8T(n/2) + n3  \n",
    "(f) T(n) = 49T(n/25) + n3/2 log n  \n",
    "(g) T(n) = T(n − 1) + 2  \n",
    "(h) T(n) = T(n − 1) + nc, where c ≥ 1 is a constant  \n",
    "(i) T(n) = T(n − 1) + cn, where c > 1 is some constant  \n",
    "(j) T(n) = 2T(n − 1) + 1  \n",
    "(k) T(n) = T( √n) + 1 "
   ]
  },
  {
   "cell_type": "markdown",
   "id": "39809779",
   "metadata": {},
   "source": [
    "(a) $O(n^{log_{3}2})$\n",
    "\n",
    "(b) $O(n^{log_{4}5})$\n",
    "\n",
    "(c) $O(n log(n))$\n",
    "\n",
    "(d) $O(n^2 log(n))$\n",
    "\n",
    "(e) $O(n^3 log(n))$\n",
    "\n",
    "<p style=\"color:red;\">(f) $O(n^{log_{25}49})$ X</p>\n",
    "\n",
    "\n",
    "(g) $O(n)$\n",
    "\n",
    "<p style=\"color:red;\">(h) $O(n^c)$ X</p>\n",
    "\n",
    "(i) $O(c^n)$\n",
    "\n",
    "<p style=\"color:red;\">(j) $O(n)$ X</p>\n",
    "\n",
    "<p style=\"color:red;\">(k) $O(\\infty)$ X</p>"
   ]
  },
  {
   "cell_type": "markdown",
   "id": "1fddc48e",
   "metadata": {},
   "source": [
    "-----\n",
    "__Official solution__\n",
    "\n",
    "(f) $O(n^{3/2})logn$\n",
    "\n",
    "(h) $O(n^{c+1})$\n",
    "\n",
    "(j) $O(2^n)$\n",
    "\n",
    "(k) $O(loglogn)$"
   ]
  },
  {
   "cell_type": "markdown",
   "id": "7834a17c",
   "metadata": {},
   "source": [
    "## <p style=\"color:red;\">2.16</p>\n",
    "You are given an infinite array A[·] in which the first n cells contain integers in  sorted order and the rest of the cells are filled with ∞. You are not given the  value of n. Describe an algorithm that takes an integer x as input and finds a  position in the array containing x, if such a position exists, in O(log n) time. (If  you are disturbed by the fact that the array A has infinite length, assume instead  that it is of length n, but that you don’t know this length, and that the  implementation of the array data type in your programming language returns the  error message ∞ whenever elements A[i] with i > n are accessed.) "
   ]
  },
  {
   "cell_type": "markdown",
   "id": "ab437377",
   "metadata": {},
   "source": [
    "-----\n",
    "__Official solution__\n",
    "\n",
    "(a) Algorithm:\n",
    "\n",
    "Starting with *index = 1* and doubling the index on each iteration, we continue until A[index] >=x. This efficiently finds an upper bound for our target value using an exponential search.\n",
    "Perform a black box Finary Search from A[1] to A[index] for the target value of x, and return the result of that search directly.\n",
    "\n",
    "(b) Justification of Correctness:\n",
    "\n",
    "The arry is sorted, which allows the use of both the expoential search and the binary search. By coubling the index at each step, we can deterministically find an upper bound that must be either infinity or a value greater than the target value we are trying to find. We know the search for this upper bound must terminate becasuse we exceed either the target value or n elements (at which point $\\infty$ occurs). Once we have this upper bound, we can leverage binary search on the now-bounded portion of the array to find the target value.\n",
    "\n",
    "(c) Runtime Analysis:\n",
    "\n",
    "By coubling the index value at each iteration, we are exploring all A[$2^i$] where $0 \\leq i \\leq log(2n)$. This result in O(logn) since the highest our upper bound search could have gone is 2n, only in hte case where $x > A[n]$.\n",
    "\n",
    "The known runtime of the binary search black box is O(logn), since the bounded portion of the array is at most 2n elements.\n",
    "\n",
    "The final runtime is thus $O(logn) + O(logn) = O(logn)$\n"
   ]
  },
  {
   "cell_type": "markdown",
   "id": "0efea279",
   "metadata": {},
   "source": [
    "## <p style=\"color:red;\">2.23</p>\n",
    "An array A[1... n] is said to have a majority element if more than half of its  entries are the same. Given an array, the task is to design an efficient algorithm  to tell whether the array has a majority element, and, if so, to find that element.  The elements of the array are not necessarily from some ordered domain like the  integers, and so there can be no comparisons of the form “is A[i] > A[j]?”.  (Think of the array elements as GIF files, say.) However you can answer  questions of the form: “is A[i] = A[j]?” in constant time.  \n",
    "\n",
    "(a) Show how to solve this problem in O(nlog n) time. (Hint: Split the array  A into two arrays A1 and A2 of half the size. Does knowing the majority  elements of A1 and A2 help you figure out the majority element of A? If  so, you can use a divide-and-conquer approach.)  \n",
    "\n",
    "(b) Can you give a linear-time algorithm? (Hint: Here’s another  divide-and-conquer approach:  \n",
    "\n",
    "    - Pair up the elements of A arbitrarily, to get n/2 pairs  \n",
    "    - Look at each pair: if the two elements are different, discard both of  them; if they are the same, keep just one of them  Show that after this procedure there are at most n/2 elements left, and  that they have a majority element if A does.) "
   ]
  },
  {
   "cell_type": "markdown",
   "id": "556951a0",
   "metadata": {},
   "source": [
    "__Official solution__\n",
    "\n",
    "Part (a):\n",
    "- (a) Algorithm:\n",
    "    - Recursively divide the input into two equal-sized subarrays, $A_1$ and $A_2$. When a base case of a subarry of size 1 is reached, report that value as the __majority element__.\n",
    "    - At each level of recursion, combine the results from each left/right subarray, as such:\n",
    "        - 1. Check the _majority element_ from each subarray, if it exists\n",
    "        - 2. For each _majority element_, count its number of occurences in the combined array\n",
    "        - 3. If one of the elements remains a majority for the combined array, then report it as the _majority element_, else NO.\n",
    "\n",
    "- (b) Justification of Correctness:\n",
    "    - By recursively dividing the input space, we can efficiently compute a count at each leel of recursion to obtain a final result when the recursion unwinds. If a _majority element_ exists at all, then at every level of recursion, there must be at least one subarray in which that element can be found as the _majority element_. Thus, as the recursion unwinds, that _majority element_ is gauranteed to be passsed to each successive level of recursion ntil the algorithm completes.\n",
    "\n",
    "- (c) Runtime Analysis:\n",
    "        - At each level of recursion, we have split the work into two halves (b=2), operating on both halves (a=2) and performing O(n) (d=1) work by counting the number of occurrences at each level. This gives us a recurrence of T(n) = 2(Tn/2) + O(n), which solves to O(nlogn) by the Master Theorem.\n",
    "        \n",
    "Part (b):\n",
    "- (a) Algorithm:\n",
    "    - Pair up the elemtns of A arbitrarily, to get n/2 pairs. Look at each pair: if the two elements are different, discard both of them; if they are the same, keep just one of them.\n",
    "    - Each time there is an odd number of elements, take one element and check if it is the majority by comparing against all elements at the current level. If it is, return it. If it is not the majority element, discard it.\n",
    "    - Do this until there are one or two elements left.\n",
    "    - Check each remaining element (two max) against all elements in the original A to see if either of them represent a majority. Return this element if a majority exists.\n",
    "    \n",
    "- (b) Justification of Correctness:\n",
    "    - If there is a majority x, then at last n/2+1 of x exists. So after every found of eliminatino, x would remain the majority because it would create more pairs than all other elements combined. For each x not paired with an x, a non x also does not get paired with itself (paired with x instead). So x pairs always outnumber any other pair. If there is an odd number of elements, we can eliminate the extra element by checking to see if it is a majority element or not. Finally we check the remaining elements (two max)against the original array to confirm if there was a majority.\n",
    "    \n",
    "- (c) Runtime Analysis:\n",
    "    - The recurrence relation is T(n) = T(n/2) + O(n) = O(n)\n",
    "    - a=1, b=2, d=1. -> O(n) via Master Theorem.\n",
    "    - Then we do two scans to check that x is a majority, so 2\\*O(n)\n",
    "    - Overall runtime 3\\*O(n) = O(n)"
   ]
  },
  {
   "cell_type": "code",
   "execution_count": null,
   "id": "4221b31e",
   "metadata": {},
   "outputs": [],
   "source": []
  }
 ],
 "metadata": {
  "kernelspec": {
   "display_name": "Python [conda env:root] *",
   "language": "python",
   "name": "conda-root-py"
  },
  "language_info": {
   "codemirror_mode": {
    "name": "ipython",
    "version": 3
   },
   "file_extension": ".py",
   "mimetype": "text/x-python",
   "name": "python",
   "nbconvert_exporter": "python",
   "pygments_lexer": "ipython3",
   "version": "3.11.4"
  }
 },
 "nbformat": 4,
 "nbformat_minor": 5
}
