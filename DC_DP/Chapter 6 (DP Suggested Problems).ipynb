{
 "cells": [
  {
   "cell_type": "markdown",
   "id": "29ee1a8b",
   "metadata": {},
   "source": [
    "## 6.2 \n",
    "\n",
    "You are going on a long trip. You start on the road at mile post 0. Along the way  there are n hotels, at mile posts a1 < a2 < ··· < an, where each ai is measured  from the starting point. The only places you are allowed to stop are at these  hotels, but you can choose which of the hotels you stop at. You must stop at the  final hotel (at distance an), which is your destination.  You’d ideally like to travel 200 miles a day, but this may not be possible  (depending on the spacing of the hotels). If you travel x miles during a day, the  penalty for that day is (200 − x)2. You want to plan your trip so as to minimize  the total penalty—that is, the sum, over all travel days, of the daily penalties.  Give an efficient algorithm that determines the optimal sequence of hotels at  which to stop."
   ]
  },
  {
   "cell_type": "markdown",
   "id": "252df9b5",
   "metadata": {},
   "source": [
    "### Subproblem definition\n",
    "T(i) is optimal sequence of hotels to stop when the last stop is $a_i$\n",
    "### Recurrence definition\n",
    "T(i) = min{ $T(j) + ( 200 - (a_i - a_j))^2$ : where $1 \\leq j < i$ }\n",
    "\n",
    "($1\\leq i \\leq n$)\n",
    "### Implementation analysis\n",
    "- Number of subproblems: __$O(n)$__\n",
    "- Runtime to fill the table: __$O(n^2)$__\n",
    "- How/where the final return is extracted from that table: __$T(n)$__\n",
    "- Runtime to extract the final return: __$O(n)$__"
   ]
  },
  {
   "cell_type": "markdown",
   "id": "54c74944",
   "metadata": {},
   "source": [
    "## 6.3\n",
    "\n",
    "Yuckdonald’s is considering opening a series of restaurants along Quaint Valley  Highway (QVH). The n possible locations are along a straight line, and the  distances of these locations from the start of QVH are, in miles and in increasing  order, m1, m2,..., mn. The constraints are as follows:  \n",
    "- At each location, Yuckdonald’s may open at most one restaurant. The  expected profit from opening a restaurant at location i is pi, where pi > 0  and i = 1, 2,..., n.  \n",
    "- Any two restaurants should be at least k miles apart, where k is a positive  integer.  \n",
    "\n",
    "Give an efficient algorithm to compute the maximum expected total profit  subject to the given constraints. "
   ]
  },
  {
   "cell_type": "markdown",
   "id": "82a15862",
   "metadata": {},
   "source": [
    "-----\n",
    "### Subproblem definition\n",
    "T(i) is maximum profit of opening restaurants at available locations $m_1, m_2, ..., m_i$, where $1 \\leq i \\leq n$\n",
    "### Recurrence definition\n",
    "T(1) = $p_1$\n",
    "\n",
    "T(i) = max{$T(j)+p_i$: where $1 \\leq j < i$ and $m_i - m_j \\geq k$}\n",
    "\n",
    "($1 < i \\leq n$)\n",
    "\n",
    "### Implementation analysis\n",
    "- Number of subproblems: __$O(n)$__\n",
    "- Runtime to fill the table: __$O(n^2)$__\n",
    "- How/where the final return is extracted from that table: __max{T(i)} where $1 \\leq i \\leq n$__\n",
    "- Runtime to extract the final return: __$O(n)$__"
   ]
  },
  {
   "cell_type": "markdown",
   "id": "8ec44570",
   "metadata": {},
   "source": [
    "## 6.5\n",
    "Pebbling a checkerboard. We are given a checkerboard which has 4 rows and n  columns, and has an integer written in each square. We are also given a set of 2n  pebbles, and we want to place some or all of these on the checkerboard (each  pebble can be placed on exactly one square) so as to maximize the sum of the  integers in the squares that are covered by pebbles. There is one constraint: for a  placement of pebbles to be legal, no two of them can be on horizontally or  vertically adjacent squares (diagonal adjacency is fine).  \n",
    "\n",
    "(a) Determine the number of legal patterns that can occur in any column (in  isolation, ignoring the pebbles in adjacent columns) and describe these  patterns.  \n",
    "\n",
    "Call two patterns compatible if they can be placed on adjacent columns to form a  legal placement. Let us consider subproblems consisting of the first k columns  1 ≤ k ≤ n. Each subproblem can be assigned a type, which is the pattern  occurring in the last column. \n",
    "\n",
    "(b) Using the notions of compatibility and type, give an O(n)-time dynamic programming algorithm for computing an optimal placement. "
   ]
  },
  {
   "cell_type": "markdown",
   "id": "6fbeeebe",
   "metadata": {},
   "source": [
    "-----\n",
    "(a) \n",
    "- Legal patterns: 8 [] [1] [2] [3] [4] [1,3] [1,4] [2,4]\n",
    "- Compatible patterns: \n",
    "    - [1,3] - [] [2] [4] [2,4]\n",
    "    - [2,4] - [] [1] [3] [1,3]\n",
    "    \n",
    "(b)\n",
    "\n",
    "Since the goal is maximal sum of integers, the legal patterns pairs to be considered will be [1,3] and [2,4]\n",
    "\n",
    "### Subproblem definition\n",
    "\n",
    "$T_{13}(i)$ is sum of value if last pattern is 13\n",
    "\n",
    "$T_{24}(i)$ is sum of value if last pattern is 24\n",
    "\n",
    "$1 \\leq i \\leq n$\n",
    "\n",
    "### Recurrence definition\n",
    "\n",
    "$T_{13}(1) = 4$\n",
    "$T_{24}(1) = 6$\n",
    "\n",
    "$T_{13}(i) = 6 + T_{24}(i-1)$\n",
    "$T_{24}(i) = 4 + T_{13}(i-1)$\n",
    "\n",
    "$1 < i \\leq n$\n",
    "\n",
    "\n",
    "### Implementation analysis\n",
    "- Number of subproblems: __$O(n)$__\n",
    "- Runtime to fill the table: __$O(n)$__\n",
    "- How/where the final return is extracted from that table: __max{$T_{13}(n), T_{24}(n)$}__\n",
    "- Runtime to extract the final return: __$O(1)$__\n"
   ]
  },
  {
   "cell_type": "markdown",
   "id": "26ab31a8",
   "metadata": {},
   "source": [
    "## 6.6\n",
    "Let us define a multiplication operation on three symbols a, b, c according to the  following table; thus ab = b, ba = c, and so on. Notice that the multiplication  operation defined by the table is neither associative nor commutative.  \n",
    "\n",
    "|   | a | b | c |\n",
    "| - | - | - | - |\n",
    "| a | b | b | a |\n",
    "| b | c | b | a |\n",
    "| c | a | c | c |\n",
    "\n",
    "Find an efficient algorithm that examines a string of these symbols, say bbbbac,  and decides whether or not it is possible to parenthesize the string in such a way  that the value of the resulting expression is a. For example, on input bbbbac your  algorithm should return yes because ((b(bb))(ba))c = a. "
   ]
  },
  {
   "cell_type": "markdown",
   "id": "42bc3796",
   "metadata": {},
   "source": [
    "-----\n",
    "### Subproblem definition\n",
    "- T(i,j) is the set of symbols that can be generated by $s_i, s_{i+1}, ..., s_j$\n",
    "    - $1 \\leq i \\leq j \\leq n$\n",
    "    - $s_i$ is the ith element of the string\n",
    "\n",
    "### Recurrence definition\n",
    "- T(i,i) = {$s_i$}\n",
    "- T(i,j) = collection of T(i,k)T(k,j)\n",
    "    - $1 \\leq i < j \\leq n$\n",
    "    - $i \\leq k \\leq j$\n",
    "\n",
    "### Implementation analysis\n",
    "- Number of subproblems: __$O(n^2)$__\n",
    "- Runtime to fill the table: __$O(n^3)$__\n",
    "- How/where the final return is extracted from that table: __T(1,n)__\n",
    "- Runtime to extract the final return: __$O(1)$__"
   ]
  },
  {
   "cell_type": "markdown",
   "id": "34317127",
   "metadata": {},
   "source": [
    "## 6.7\n",
    "\n",
    "A subsequence is palindromic if it is the same whether read left to right or right  to left. For instance, the sequence  \n",
    "A, C, G, T, G, T, C, A, A, A, A, T, C, G  \n",
    "has many palindromic subsequences, including A, C, G, C, A and A, A, A, A (on  the other hand, the subsequence A, C, T is not palindromic). Devise an  algorithm that takes a sequence x[1... n] and returns the (length of the) longest  palindromic subsequence. Its running time should be O(n2). "
   ]
  },
  {
   "cell_type": "markdown",
   "id": "2956f971",
   "metadata": {},
   "source": [
    "-----\n",
    "### Subproblem definition\n",
    "- S[i] is the letter of ith position\n",
    "- T(i) is length of palidromic sequence ending at position i\n",
    "- n is the length of sequence\n",
    "\n",
    "### Recurrence definition\n",
    "T(1) = 1\n",
    "\n",
    "\n",
    "for $1 < i \\leq n$\n",
    "\n",
    "if T(i-1) = 1:\n",
    "- if S[i] = S[i-1]: T[i] = 2\n",
    "- if $i > 2$ and S[i] = S[i-2]: T[i] = 3\n",
    "\n",
    "if T(i-1) > 1:\n",
    "- if S[i] = S[i-T(i-1)-1]: T[i] = T[i-1]+2\n",
    "\n",
    "\n",
    "### Implementation analysis\n",
    "- Number of subproblems: __$O(n)$__\n",
    "- Runtime to fill the table: __$O(n^2)$__\n",
    "- How/where the final return is extracted from that table: __max{T(i)}__\n",
    "- Runtime to extract the final return: __$O(n)$__"
   ]
  },
  {
   "cell_type": "markdown",
   "id": "c7fee23e",
   "metadata": {},
   "source": [
    "## 6.9\n",
    "A certain string-processing language offers a primitive operation which splits a  string into two pieces. Since this operation involves copying the original string, it  takes n units of time for a string of length n, regardless of the location of the cut.  Suppose, now, that you want to break a string into many pieces. The order in  which the breaks are made can affect the total running time. For example, if you  want to cut a 20-character string at positions 3 and 10, then making the first cut  at position 3 incurs a total cost of 20 + 17 = 37, while doing position 10 first has  a better cost of 20 + 10 = 30.  \n",
    "\n",
    "Give a dynamic programming algorithm that, given the locations of m cuts in a  string of length n, finds the minimum cost of breaking the string into m + 1  pieces. "
   ]
  },
  {
   "cell_type": "markdown",
   "id": "f3915424",
   "metadata": {},
   "source": [
    "-----\n",
    "### Subproblem definition\n",
    "- Let C $(c_0, c_1, c_2, ... c_m, c_{m+1})$ be the list of cut positions sorted from small to large\n",
    "    - $c_0, c_{m+1}$ are the start and end of the string, positions 0 and n\n",
    "- Let T(i,j) be the minimum cost of creating cuts from $c_i, c_{i+1}, ..., c_j$\n",
    "    - $1 \\leq i < j \\leq m$\n",
    "\n",
    "### Recurrence definition\n",
    "- T(i, i+1) = 0\n",
    "    - $1 \\leq i \\leq m-1$\n",
    "- T(i,j) = min{T(i,k) + T(k+1,j) + $(c_j - c_i)$}\n",
    "    - $1 \\leq i < j \\leq m$\n",
    "    - $k < i < j$\n",
    "\n",
    "### Implementation analysis\n",
    "- Number of subproblems: __$O(m^2)$__\n",
    "- Runtime to fill the table: __$O(m^3)$__\n",
    "- How/where the final return is extracted from that table: __T(0,m+1)__\n",
    "- Runtime to extract the final return: __$O(m^2)$__"
   ]
  },
  {
   "cell_type": "markdown",
   "id": "815b36b1",
   "metadata": {},
   "source": [
    "## 6.11\n",
    "Given two strings x = x1x2 ··· xn and y = y1 y2 ··· ym, we wish to find the length  of their longest common subsequence, that is, the largest k for which there are  indices i1 < i2 < ··· < ik and j1 < j2 < ··· < jk with xi1 xi2 ··· xik = yj1 yj2 ··· yjk.  Show how to do this in time O(mn). "
   ]
  },
  {
   "cell_type": "markdown",
   "id": "ed50f3f5",
   "metadata": {},
   "source": [
    "-----\n",
    "### Subproblem definition\n",
    "- T(i,j) is the longest common subsequence of ${x_1, x_2, ..., x_i}$ and ${y_1, y_2, ... y_j}$\n",
    "    - Where $0 \\leq i \\leq n$ and $0 \\leq j \\leq m$\n",
    "\n",
    "### Recurrence definition\n",
    "- Base case:\n",
    "    - T(i,0) = 0 for $0 \\leq i \\leq n$\n",
    "    - T(0,j) = 0 for $0 \\leq j \\leq m$\n",
    "- Recurrence:\n",
    "    - For $1 \\leq i \\leq n$ and $1 \\leq j \\leq m$\n",
    "    - if $x_i = y_j$:\n",
    "        - T(i,j) = 1+T(i-1, j-1)\n",
    "    - if $x_i \\neq y_j$:\n",
    "        - T(i,j) = max{T(i, j-1), T(j, i-1)}\n",
    "### Implementation analysis\n",
    "- Number of subproblems: __$O(mn)$__\n",
    "- Runtime to fill the table: __$O(1)$__\n",
    "- How/where the final return is extracted from that table: __T(n,m)__\n",
    "- Runtime to extract the final return: __$O(1)$__"
   ]
  },
  {
   "cell_type": "markdown",
   "id": "0190ad2e",
   "metadata": {},
   "source": [
    "## 6.17\n",
    "Given an unlimited supply of coins of denominations x1, x2,..., xn, we wish to  make change for a value v; that is, we wish to find a set of coins whose total  value is v. This might not be possible: for instance, if the denominations are 5  and 10 then we can make change for 15 but not for 12. Give an O(nv)  dynamic-programming algorithm for the following problem.  \n",
    "\n",
    "Input: x1,..., xn; v.  \n",
    "Question: Is it possible to make change for v using coins of  denominations x1,..., xn? "
   ]
  },
  {
   "cell_type": "markdown",
   "id": "90852686",
   "metadata": {},
   "source": [
    "-----\n",
    "### Subproblem definition\n",
    "- For $0 \\leq i \\leq n$ and $0 \\leq j \\leq v$:\n",
    "    - T(i,j) is 1 if it is possible to use the set of coins between {$x_1, x_2, ... x_i$} to make value j\n",
    "    - 0 if it is not possible\n",
    "\n",
    "### Recurrence definition\n",
    "- Base case:\n",
    "    - For $0 \\leq i \\leq n$: T(i, 0) = 1\n",
    "    - For $0 \\leq j \\leq v$: T(0, j) = 0\n",
    "- For $1 \\leq i \\leq n$ and $1 \\leq j \\leq v$:\n",
    "    - For $1 \\leq k \\leq i$:\n",
    "        - If any $j \\geq k$ and T(i, j-k) = 1: T(i,j) = 1\n",
    "        - Else, T(i,j) = 0\n",
    "\n",
    "### Implementation analysis\n",
    "- Number of subproblems: __$O(nv)$__\n",
    "- Runtime to fill the table: __$O(n^2v)$__\n",
    "- How/where the final return is extracted from that table: __T(n,v)__\n",
    "- Runtime to extract the final return: __$O(nv)$__"
   ]
  },
  {
   "cell_type": "markdown",
   "id": "c7d6d504",
   "metadata": {},
   "source": [
    "## 6.22\n",
    "\n",
    "Give an O(nt) algorithm for the following task.  \n",
    "\n",
    "Input: A list of n positive integers a1, a2,..., an; a positive integer t.  Question: Does some subset of the ai ’s add up to t? (You can use each ai  at most once.) "
   ]
  },
  {
   "cell_type": "markdown",
   "id": "202dec93",
   "metadata": {},
   "source": [
    "-----\n",
    "### Subproblem definition\n",
    "T(i) is ...\n",
    "### Recurrence definition\n",
    "T(0) = ...\n",
    "T(i) = (bound of i...)\n",
    "### Implementation analysis\n",
    "- Number of subproblems: __$O()$__\n",
    "- Runtime to fill the table: __$O()$__\n",
    "- How/where the final return is extracted from that table: ____\n",
    "- Runtime to extract the final return: __$O()$__"
   ]
  },
  {
   "cell_type": "markdown",
   "id": "146939e3",
   "metadata": {},
   "source": [
    "## 6.25\n",
    "Consider the following 3-PARTITION problem. Given integers a1,..., an, we want to  determine whether it is possible to partition {1,..., n} into three disjoint subsets  I, J, K such that  \n",
    "\n",
    "\u0007  i∈I  ai = \u0007  j∈J  aj = \u0007  k∈K  ak  =  1  3 \u0007n  i=1  ai  \n",
    "\n",
    "For example, for input (1, 2, 3, 4, 4, 5, 8) the answer is yes, because there is the  partition (1, 8), (4, 5), (2, 3, 4). On the other hand, for input (2, 2, 3, 5) the  answer is no.  \n",
    "\n",
    "Devise and analyze a dynamic programming algorithm for 3-PARTITION that runs  in time polynomial in n and in i ai. "
   ]
  },
  {
   "cell_type": "markdown",
   "id": "6689331a",
   "metadata": {},
   "source": [
    "-----\n",
    "### Subproblem definition\n",
    "T(i) is ...\n",
    "### Recurrence definition\n",
    "T(0) = ...\n",
    "T(i) = (bound of i...)\n",
    "### Implementation analysis\n",
    "- Number of subproblems: __$O()$__\n",
    "- Runtime to fill the table: __$O()$__\n",
    "- How/where the final return is extracted from that table: ____\n",
    "- Runtime to extract the final return: __$O()$__"
   ]
  },
  {
   "cell_type": "markdown",
   "id": "ab38b798",
   "metadata": {},
   "source": [
    "## 6.26\n",
    "Sequence alignment. When a new gene is discovered, a standard approach to  understanding its function is to look through a database of known genes and  find close matches. The closeness of two genes is measured by the extent to  which they are aligned. To formalize this, think of a gene as being a long string  over an alphabet \u0003 = {A, C, G, T}. Consider two genes (strings) x = ATGC C  and y = T AC GC A. An alignment of x and y is a way of matching up these two  strings by writing them in columns, for instance:  \n",
    "− A T − G C C  \n",
    "T A − C G C A\n",
    "\n",
    "Here the “−” indicates a “gap.” The characters of each string must appear in  order, and each column must contain a character from at least one of the strings.  The score of an alignment is specified by a scoring matrix δ of size  (|\u0003| + 1) × (|\u0003| + 1), where the extra row and column are to accommodate  gaps. For instance the preceding alignment has the following score:  \n",
    "δ(−, T) + δ(A, A) + δ(T, −) + δ(−, C) + δ(G, G) + δ(C, C) + δ(C, A).  \n",
    "\n",
    "Give a dynamic programming algorithm that takes as input two strings x[1... n]  and y[1... m] and a scoring matrix δ, and returns the highest-scoring alignment.  The running time should be O(mn). "
   ]
  },
  {
   "cell_type": "markdown",
   "id": "8ba4a14b",
   "metadata": {},
   "source": [
    "-----\n",
    "### Subproblem definition\n",
    "T(i) is ...\n",
    "### Recurrence definition\n",
    "T(0) = ...\n",
    "T(i) = (bound of i...)\n",
    "### Implementation analysis\n",
    "- Number of subproblems: __$O()$__\n",
    "- Runtime to fill the table: __$O()$__\n",
    "- How/where the final return is extracted from that table: ____\n",
    "- Runtime to extract the final return: __$O()$__"
   ]
  },
  {
   "cell_type": "markdown",
   "id": "b8833c74",
   "metadata": {},
   "source": [
    "## 6.27"
   ]
  },
  {
   "cell_type": "markdown",
   "id": "371e8fcd",
   "metadata": {},
   "source": [
    "-----\n",
    "### Subproblem definition\n",
    "T(i) is ...\n",
    "### Recurrence definition\n",
    "T(0) = ...\n",
    "T(i) = (bound of i...)\n",
    "### Implementation analysis\n",
    "- Number of subproblems: __$O()$__\n",
    "- Runtime to fill the table: __$O()$__\n",
    "- How/where the final return is extracted from that table: ____\n",
    "- Runtime to extract the final return: __$O()$__"
   ]
  },
  {
   "cell_type": "markdown",
   "id": "b2c66107",
   "metadata": {},
   "source": [
    "## 6.28"
   ]
  },
  {
   "cell_type": "markdown",
   "id": "37c7d732",
   "metadata": {},
   "source": [
    "-----\n",
    "### Subproblem definition\n",
    "T(i) is ...\n",
    "### Recurrence definition\n",
    "T(0) = ...\n",
    "T(i) = (bound of i...)\n",
    "### Implementation analysis\n",
    "- Number of subproblems: __$O()$__\n",
    "- Runtime to fill the table: __$O()$__\n",
    "- How/where the final return is extracted from that table: ____\n",
    "- Runtime to extract the final return: __$O()$__"
   ]
  },
  {
   "cell_type": "markdown",
   "id": "e43322ae",
   "metadata": {},
   "source": [
    "## 6.29"
   ]
  },
  {
   "cell_type": "markdown",
   "id": "a0fe1953",
   "metadata": {},
   "source": [
    "-----\n",
    "### Subproblem definition\n",
    "T(i) is ...\n",
    "### Recurrence definition\n",
    "T(0) = ...\n",
    "T(i) = (bound of i...)\n",
    "### Implementation analysis\n",
    "- Number of subproblems: __$O()$__\n",
    "- Runtime to fill the table: __$O()$__\n",
    "- How/where the final return is extracted from that table: ____\n",
    "- Runtime to extract the final return: __$O()$__"
   ]
  },
  {
   "cell_type": "markdown",
   "id": "4a4ae3f7",
   "metadata": {},
   "source": [
    "## 6.30"
   ]
  },
  {
   "cell_type": "markdown",
   "id": "0e52fbd2",
   "metadata": {},
   "source": [
    "-----\n",
    "### Subproblem definition\n",
    "T(i) is ...\n",
    "### Recurrence definition\n",
    "T(0) = ...\n",
    "T(i) = (bound of i...)\n",
    "### Implementation analysis\n",
    "- Number of subproblems: __$O()$__\n",
    "- Runtime to fill the table: __$O()$__\n",
    "- How/where the final return is extracted from that table: ____\n",
    "- Runtime to extract the final return: __$O()$__"
   ]
  }
 ],
 "metadata": {
  "kernelspec": {
   "display_name": "Python [conda env:root] *",
   "language": "python",
   "name": "conda-root-py"
  },
  "language_info": {
   "codemirror_mode": {
    "name": "ipython",
    "version": 3
   },
   "file_extension": ".py",
   "mimetype": "text/x-python",
   "name": "python",
   "nbconvert_exporter": "python",
   "pygments_lexer": "ipython3",
   "version": "3.11.4"
  }
 },
 "nbformat": 4,
 "nbformat_minor": 5
}
