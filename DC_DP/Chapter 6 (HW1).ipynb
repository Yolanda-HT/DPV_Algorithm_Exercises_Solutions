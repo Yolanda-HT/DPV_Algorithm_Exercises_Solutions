{
 "cells": [
  {
   "cell_type": "markdown",
   "id": "3357967e",
   "metadata": {},
   "source": [
    "## 6.4\n",
    "You are given a string of n characters s[1... n], which you believe to be a  corrupted text document in which all punctuation has vanished (so that it looks  something like “itwasthebestoftimes...”). You wish to reconstruct the document  using a dictionary, which is available in the form of a Boolean function dict(·):  for any string w,  \n",
    "\n",
    "dict(w) =  true if w is a valid word  false otherwise.  \n",
    "\n",
    "(a) Give a dynamic programming algorithm that determines whether the  string s[·] can be reconstituted as a sequence of valid words. The running  time should be at most O(n2), assuming calls to dict take unit time.  \n",
    "\n",
    "(b) In the event that the string is valid, make your algorithm output the  corresponding sequence of words. "
   ]
  },
  {
   "cell_type": "markdown",
   "id": "78a36300",
   "metadata": {},
   "source": [
    "-----\n",
    "- Table\n",
    "    - E[i]: whether i is the ENDING of an word (True: end of word, False: not end of word)\n",
    "- Recurrence: \n",
    "    - For 1 <= i <= n:\n",
    "        - lastword = ''\n",
    "        - For 1 <= j < i: Find the word from last word ending\n",
    "            - If E[j] == True:\n",
    "                - lastword = ''\n",
    "            - else:\n",
    "                - lastword append s[j]\n",
    "        - E[i] = whether lastword is in dictionary\n",
    "- Extraction:\n",
    "    - If E[n] = True:\n",
    "        lastword = ''\n",
    "        - For 1 <= i <= n:\n",
    "            - if E[i] == True:\n",
    "                return lastword\n",
    "            - else:\n",
    "               lastword append s[i]\n",
    "\n",
    "- Complexity:\n",
    "    - Number of subproblems: O(n)\n",
    "    - Runtime to fill table using recurrence: O(n^2)\n",
    "    - Return extraction: Go through E[i]\n",
    "    - Runtime of return extraction: O(n)"
   ]
  },
  {
   "cell_type": "markdown",
   "id": "6622bf1d",
   "metadata": {},
   "source": [
    "-----\n",
    "__Official solution__\n",
    "- Table entry definition\n",
    "    - Let T(i) = TRUE if s[1], s[2], ... s[i] can be reconstituted as a sequence of valid words, otherwise FALSE\n",
    "- State recurrence\n",
    "    - T(0) = TRUE\n",
    "    - T(i):\n",
    "        - True if any [T(j-1) = TRUE and dict[s[j...i]] = TRUE] for 1 <= j <= i\n",
    "        - False otherwise\n",
    "- Implementation analysis\n",
    "    - Number of subproblems: O(n)\n",
    "    - Runtime to fill table using recurrence: O(n^2)\n",
    "    - Return extraction: Go through T(n)\n",
    "    - Runtime of return extraction: O(1)"
   ]
  },
  {
   "cell_type": "markdown",
   "id": "72c9b821",
   "metadata": {},
   "source": [
    "## 6.8\n",
    "\n",
    "Given two strings x = x1x2 ··· xn and y = y1 y2 ··· ym, we wish to find the length  of their longest common substring, that is, the largest k for which there are  indices i and j with xi xi+1 ··· xi+k−1 = yj yj+1 ··· yj+k−1. Show how to do this in  time O(mn). "
   ]
  },
  {
   "cell_type": "markdown",
   "id": "051344b0",
   "metadata": {},
   "source": [
    "-----\n",
    "- Table:\n",
    "    - n row, m columns\n",
    "    - T[i][j]: Length of longest common substring of x_1, x_2,..., x_i and y_1, y_2, ..., y_j\n",
    "- Recurrence:\n",
    "    - Base case: T[i][0] = 0, T[0][j] = 0\n",
    "    - For 1 <= i <= n:\n",
    "        - For 1 <= j <= m:\n",
    "            - if x[i] == y[j]:\n",
    "                - T[i][j] = T[i-1][j-1] +1\n",
    "            - else:\n",
    "                - T[i][j] = 0\n",
    "- Complexity:\n",
    "    - Number of subproblems: O(n\\*m)\n",
    "    - Runtime to fill table using recurrence: O(n\\*m)\n",
    "    - Return extraction: max value of the table\n",
    "    - Runtime of return extraction: O(n\\*m)\n",
    "            \n",
    "            "
   ]
  },
  {
   "cell_type": "markdown",
   "id": "7b5af5e7",
   "metadata": {},
   "source": [
    "## 6.18\n",
    "Consider the following variation on the change-making problem (Exercise 6.17)\n",
    "\n",
    "You are given denominations x1, x2,..., xn, and you want to make change for a  value v, but you are allowed to use each denomination at most once. For  instance, if the denominations are 1, 5, 10, 20, then you can make change for  16 = 1 + 15 and for 31 = 1 + 10 + 20 but not for 40 (because you can’t use 20  twice).  \n",
    "- Input: Positive integers x1, x2,..., xn; another integer v.  \n",
    "- Output: Can you make change for v, using each denomination xi at most  once?  Show how to solve this problem in time O(nv). "
   ]
  },
  {
   "cell_type": "markdown",
   "id": "08d67167",
   "metadata": {},
   "source": [
    "-----\n",
    "- Table:\n",
    "    - T[i][j]: whether value i can be make with x_1, x_2, ... x_j\n",
    "    - 1 <= i <= v, 1 <= j <= n\n",
    "    - v rows, n columns\n",
    "- Recurrence:\n",
    "    - Base case: T[i][j] = 0\n",
    "    - For 1 <= i <= v:\n",
    "        - For 1 <= j <= n:\n",
    "            - Determine whether i - x[i] can be made up by any combination of x_1, x_2, ... x_(i-1):\n",
    "                - i = x[i] or Sum(T[i-x[i]]) > 0: T[i][j] = 1\n",
    "                - else: T[i][j] = 0\n",
    "- Complexity:\n",
    "    - Number of subproblems: O(n\\*v)\n",
    "    - Runtime to fill table using reccurence: O(n^2\\*v) (summing T[i-x[i]] takes O(n))\n",
    "    - Return extraction: Sum T[v][j] for all j\n",
    "    - Runtime of return extraction: O(n)"
   ]
  },
  {
   "cell_type": "markdown",
   "id": "59d3b4d0",
   "metadata": {},
   "source": [
    "## 6.19\n",
    "Here is yet another variation on the change-making problem (Exercise 6.17).  \n",
    "\n",
    "Given an unlimited supply of coins of denominations x1, x2,..., xn, we wish to  make change for a value v using at most k coins; that is, we wish to find a set of  ≤ k coins whose total value is v. This might not be possible: for instance, if the  denominations are 5 and 10 and k = 6, then we can make change for 55 but not  for 65. Give an efficient dynamic-programming algorithm for the following  problem.  \n",
    "\n",
    "- Input: x1,..., xn; k; v.  \n",
    "- Question: Is it possible to make change for v using at most k coins, of  denominations x1,..., xn? "
   ]
  },
  {
   "cell_type": "markdown",
   "id": "e4d6c962",
   "metadata": {},
   "source": [
    "-----\n",
    "- Table:\n",
    "    - T[i][s][j]: whether value i can be make with x_1, x_2, ... x_j\n",
    "    - 1 <= i <= v, 1 <= s <= k, 1 <= j <= n\n",
    "    - s depth, v rows, n columns\n",
    "- Recurrence:\n",
    "    - Base case: T[x][i][j] = 0\n",
    "    - For 1 <= i <= v:\n",
    "        - For  1 <= s <= k:\n",
    "            - For 1 <= j <= n:\n",
    "                - Determine whether i - x[i] can be made up by any combination of x_1, x_2, ... x_(i-1) for k times:\n",
    "                    - i = x[i] or Sum(T[i-x[i]]) > 0: T[i][s][j] = 1\n",
    "                    - else: T[i][s][j] = 0\n",
    "- Complexity:\n",
    "    - Number of subproblems: O(n\\*k\\*v)\n",
    "    - Runtime to fill table using reccurence: O(n^2\\*k^2\\*v) (summing T[i-x[i]] takes O(n\\*k))\n",
    "    - Return extraction: Sum T[v][s][j] for all s and j\n",
    "    - Runtime of return extraction: O(k\\*n)"
   ]
  },
  {
   "cell_type": "markdown",
   "id": "a965bb06",
   "metadata": {},
   "source": [
    "## 6.20\n",
    "Optimal binary search trees. Suppose we know the frequency with which  keywords occur in programs of a certain language, for instance:  \n",
    "- begin 5%  \n",
    "- do 40%  \n",
    "- else 8%  \n",
    "- end 4%  \n",
    "- if 10%  \n",
    "- then 10%  \n",
    "- while 23%  \n",
    "\n",
    "We want to organize them in a binary search tree, so that the keyword in the root  is alphabetically bigger than all the keywords in the left subtree and smaller than  all the keywords in the right subtree (and this holds for all nodes).  \n",
    "\n",
    "Figure 6.12 has a nicely-balanced example on the left. In this case, when a  keyword is being looked up, the number of comparisons needed is at most three:  for instance, in finding “while”, only the three nodes “end”, “then”, and “while”  get examined. But since we know the frequency with which keywords are  accessed, we can use an even more fine-tuned cost function, the average number  of comparisons to look up a word. For the search tree on the left, it is  \n",
    "\n",
    "cost = 1(0.04) + 2(0.40 + 0.10) + 3(0.05 + 0.08 + 0.10 + 0.23) = 2.42.  \n",
    "\n",
    "By this measure, the best search tree is the one on the right, which has a cost of  2.18.  \n",
    "\n",
    "Give an efficient algorithm for the following task.  \n",
    "- Input: n words (in sorted order); frequencies of these words:  p1, p2,..., pn. \n",
    "- Output: The binary search tree of lowest cost (defined above as the  expected number of comparisons in looking up a word). "
   ]
  },
  {
   "cell_type": "markdown",
   "id": "076a8c89",
   "metadata": {},
   "source": [
    "## 6.26\n",
    "\n",
    "Sequence alignment. When a new gene is discovered, a standard approach to  understanding its function is to look through a database of known genes and  find close matches. The closeness of two genes is measured by the extent to  which they are aligned. To formalize this, think of a gene as being a long string  over an alphabet  = {A, C, G, T}. Consider two genes (strings) x = ATGC C  and y = T AC GC A. An alignment of x and y is a way of matching up these two  strings by writing them in columns, for instance:  \n",
    "\n",
    "− A T − G C C  \n",
    "T A − C G C A \n",
    "\n",
    "Here the “−” indicates a “gap.” The characters of each string must appear in  order, and each column must contain a character from at least one of the strings.  The score of an alignment is specified by a scoring matrix δ of size  (|\u0003| + 1) × (|\u0003| + 1), where the extra row and column are to accommodate  gaps. For instance the preceding alignment has the following score:  \n",
    "\n",
    "δ(−, T) + δ(A, A) + δ(T, −) + δ(−, C) + δ(G, G) + δ(C, C) + δ(C, A).  \n",
    "\n",
    "Give a dynamic programming algorithm that takes as input two strings x[1... n]  and y[1... m] and a scoring matrix δ, and returns the highest-scoring alignment.  The running time should be O(mn). "
   ]
  },
  {
   "cell_type": "code",
   "execution_count": null,
   "id": "8b29a2ae",
   "metadata": {},
   "outputs": [],
   "source": []
  }
 ],
 "metadata": {
  "kernelspec": {
   "display_name": "Python [conda env:plotting]",
   "language": "python",
   "name": "conda-env-plotting-py"
  },
  "language_info": {
   "codemirror_mode": {
    "name": "ipython",
    "version": 3
   },
   "file_extension": ".py",
   "mimetype": "text/x-python",
   "name": "python",
   "nbconvert_exporter": "python",
   "pygments_lexer": "ipython3",
   "version": "3.8.17"
  }
 },
 "nbformat": 4,
 "nbformat_minor": 5
}
