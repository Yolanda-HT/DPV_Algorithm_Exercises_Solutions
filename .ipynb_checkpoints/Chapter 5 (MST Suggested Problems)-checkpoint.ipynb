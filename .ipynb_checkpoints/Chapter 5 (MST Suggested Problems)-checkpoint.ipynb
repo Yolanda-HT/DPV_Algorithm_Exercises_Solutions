{
 "cells": [
  {
   "cell_type": "markdown",
   "id": "f872ead7",
   "metadata": {},
   "source": [
    "## 5.5\n",
    "\n",
    "Consider an undirected graph G = (V, E) with nonnegative edge weights we ≥ 0.  Suppose that you have computed a minimum spanning tree of G, and that you  have also computed shortest paths to all nodes from a particular node s ∈ V.  Now suppose each edge weight is increased by 1: the new weights are  w\u0002 e = we + 1.  \n",
    "\n",
    "(a) Does the minimum spanning tree change? Give an example where it  changes or prove it cannot change. \n",
    "\n",
    "(b) Do the shortest paths change? Give an example where they change or  prove they cannot change. \n",
    "\n",
    "-----"
   ]
  },
  {
   "cell_type": "markdown",
   "id": "b55ef549",
   "metadata": {},
   "source": [
    "(a) MST does not change\n",
    "\n",
    "- With Kruskal's algorithm, apply cut property for every edge added, for both original G and new G'.\n",
    "- Since order and relation of weight of edges stay the same, a MST in G will still be MST in G'.\n",
    "\n",
    "(b) Shortest path can change\n",
    "\n",
    "- [A]-1-[B]-1-[C]-[D]-1-[E], [A]-5-[E]\n",
    "- [A]-2-[B]-2-[C]-2-[D]-2-[E], [A]-5-[E]"
   ]
  },
  {
   "cell_type": "markdown",
   "id": "2dffae63",
   "metadata": {},
   "source": [
    "## 5.6\n",
    "\n",
    "Let G = (V, E) be an undirected graph. Prove that if all its edge weights are  distinct, then it has a unique minimum spanning tree. \n",
    "\n",
    "-----"
   ]
  },
  {
   "cell_type": "markdown",
   "id": "10d77833",
   "metadata": {},
   "source": [
    "- Every step in Kruskal's, apply cut property, there is only one choice of edge"
   ]
  },
  {
   "cell_type": "markdown",
   "id": "d8310fbd",
   "metadata": {},
   "source": [
    "## 5.7\n",
    "\n",
    "Show how to find the maximum spanning tree of a graph, that is, the spanning  tree of largest total weight. "
   ]
  },
  {
   "cell_type": "markdown",
   "id": "29d3a96e",
   "metadata": {},
   "source": [
    "- "
   ]
  },
  {
   "cell_type": "markdown",
   "id": "5d87d841",
   "metadata": {},
   "source": [
    "## 5.20: \"Give a linear-time algorithm...\" (feedback edge set not included here)"
   ]
  },
  {
   "cell_type": "code",
   "execution_count": null,
   "id": "ff5b9273",
   "metadata": {},
   "outputs": [],
   "source": []
  },
  {
   "cell_type": "markdown",
   "id": "c2ee382a",
   "metadata": {},
   "source": [
    "## 5.22: \"In this problem, we will develop a new algorithm for finding minimum spanning trees.\""
   ]
  },
  {
   "cell_type": "code",
   "execution_count": null,
   "id": "279b6037",
   "metadata": {},
   "outputs": [],
   "source": []
  },
  {
   "cell_type": "markdown",
   "id": "0bef8d7d",
   "metadata": {},
   "source": [
    "## 5.23: \"You are given a graph G=(V,E) with positive edge weights, and a minimum spanning tree T=(V,E)...\""
   ]
  },
  {
   "cell_type": "code",
   "execution_count": null,
   "id": "00e17a1c",
   "metadata": {},
   "outputs": [],
   "source": []
  }
 ],
 "metadata": {
  "kernelspec": {
   "display_name": "Python [conda env:plotting]",
   "language": "python",
   "name": "conda-env-plotting-py"
  },
  "language_info": {
   "codemirror_mode": {
    "name": "ipython",
    "version": 3
   },
   "file_extension": ".py",
   "mimetype": "text/x-python",
   "name": "python",
   "nbconvert_exporter": "python",
   "pygments_lexer": "ipython3",
   "version": "3.8.17"
  }
 },
 "nbformat": 4,
 "nbformat_minor": 5
}
