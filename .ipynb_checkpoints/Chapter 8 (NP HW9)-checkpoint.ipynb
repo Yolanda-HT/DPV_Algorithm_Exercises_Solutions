{
 "cells": [
  {
   "cell_type": "markdown",
   "id": "0251a39a",
   "metadata": {},
   "source": [
    "<br>\n",
    "<br>\n",
    "<br>\n",
    "<h1 style=\"text-align:center; color:blue\">8.1</h1>\n",
    "\n",
    "Optimization versus search. Recall the traveling salesman problem: \n",
    "\n",
    "- TSP  \n",
    "    - Input: A matrix of distances; a budget b  \n",
    "    - Output: A tour which passes through all the cities and has length ≤ b, if  such a tour exists.  \n",
    "    \n",
    "The optimization version of this problem asks directly for the shortest tour.  \n",
    "\n",
    "- TSP-OPT  \n",
    "    - Input: A matrix of distances  \n",
    "    - Output: The shortest tour which passes through all the cities.  \n",
    "\n",
    "Show that if TSP can be solved in polynomial time, then so can TSP-OPT. \n",
    "\n",
    "-----"
   ]
  },
  {
   "cell_type": "markdown",
   "id": "910a071e",
   "metadata": {},
   "source": [
    "<font color='darkgray'>\n",
    "    \n",
    "<b>My Solution</b>\n",
    "\n",
    "</font>"
   ]
  },
  {
   "cell_type": "markdown",
   "id": "395cca8a",
   "metadata": {},
   "source": [
    "-----\n",
    "<font color='red'><b>Sample Solution</b></font>"
   ]
  },
  {
   "cell_type": "markdown",
   "id": "b1db2086",
   "metadata": {},
   "source": [
    "<br>\n",
    "<br>\n",
    "<br>\n",
    "<h1 style=\"text-align:center; color:blue\">8.3</h1>\n",
    "\n",
    "STINGY SAT is the following problem: given a set of clauses (each a disjunction of  literals) and an integer k, find a satisfying assignment in which at most k  variables are true, if such an assignment exists. Prove that STINGY SAT is  NP-complete. "
   ]
  },
  {
   "cell_type": "markdown",
   "id": "7b24897c",
   "metadata": {},
   "source": [
    "<font color='darkgray'>\n",
    "    \n",
    "<b>My Solution</b>\n",
    "\n",
    "</font>"
   ]
  },
  {
   "cell_type": "markdown",
   "id": "d827df16",
   "metadata": {},
   "source": [
    "-----\n",
    "<font color='red'><b>Sample Solution</b></font>"
   ]
  },
  {
   "cell_type": "markdown",
   "id": "e5a8b12a",
   "metadata": {},
   "source": [
    "<br>\n",
    "<br>\n",
    "<br>\n",
    "<h1 style=\"text-align:center; color:blue\">8.4 (a),(b),(c)</h1>\n",
    "\n",
    "Consider the CLIQUE problem restricted to graphs in which every vertex has  degree at most 3. Call this problem CLIQUE-3.  \n",
    "\n",
    "(a) Prove that CLIQUE-3 is in NP. \n",
    "\n",
    "(b) What is wrong with the following proof of NP-completeness for CLIQUE-3?  We know that the CLIQUE problem in general graphs is NP-complete, so it  is enough to present a reduction from CLIQUE-3 to CLIQUE. Given a graph G  with vertices of degree ≤ 3, and a parameter g, the reduction leaves the  graph and the parameter unchanged: clearly the output of the reduction  is a possible input for the CLIQUE problem. Furthermore, the answer to  both problems is identical. This proves the correctness of the reduction  and, therefore, the NP-completeness of CLIQUE-3.  \n",
    "\n",
    "(c) It is true that the VERTEX COVER problem remains NP-complete even when  restricted to graphs in which every vertex has degree at most 3. Call this  problem VC-3. What is wrong with the following proof of  NP-completeness for CLIQUE-3?  We present a reduction from VC-3 to CLIQUE-3. Given a graph G = (V, E)  with node degrees bounded by 3, and a parameter b, we create an  instance of CLIQUE-3 by leaving the graph unchanged and switching the  parameter to |V| − b. Now, a subset C ⊆ V is a vertex cover in G if and  only if the complementary set V − C is a clique in G. Therefore G has a  vertex cover of size ≤ b if and only if it has a clique of size ≥ |V| − b.  This proves the correctness of the reduction and, consequently, the  NP-completeness of CLIQUE-3. "
   ]
  },
  {
   "cell_type": "markdown",
   "id": "080eaa77",
   "metadata": {},
   "source": [
    "<font color='darkgray'>\n",
    "    \n",
    "<b>My Solution</b>\n",
    "\n",
    "</font>"
   ]
  },
  {
   "cell_type": "markdown",
   "id": "815e5240",
   "metadata": {},
   "source": [
    "-----\n",
    "<font color='red'><b>Sample Solution</b></font>"
   ]
  },
  {
   "cell_type": "markdown",
   "id": "517c9894",
   "metadata": {},
   "source": [
    "<br>\n",
    "<br>\n",
    "<br>\n",
    "<h1 style=\"text-align:center; color:blue\">8.8</h1>\n",
    "\n",
    "In the EXACT 4SAT problem, the input is a set of clauses, each of which is a  disjunction of exactly four literals, and such that each variable occurs at most  once in each clause. The goal is to find a satisfying assignment, if one exists.  Prove that EXACT 4SAT is NP-complete. \n",
    "\n",
    "-----"
   ]
  },
  {
   "cell_type": "markdown",
   "id": "3621f84a",
   "metadata": {},
   "source": [
    "<font color='darkgray'>\n",
    "    \n",
    "<b>My Solution</b>\n",
    "\n",
    "</font>"
   ]
  },
  {
   "cell_type": "markdown",
   "id": "a62f1e7c",
   "metadata": {},
   "source": [
    "-----\n",
    "<font color='red'><b>Sample Solution</b></font>"
   ]
  },
  {
   "cell_type": "markdown",
   "id": "c62d9d64",
   "metadata": {},
   "source": [
    "<br>\n",
    "<br>\n",
    "<br>\n",
    "<h1 style=\"text-align:center; color:blue\">8.10 (a)</h1>\n",
    "\n",
    "Proving NP-completeness by generalization. For each of the problems below,  prove that it is NP-complete by showing that it is a generalization of some  NP-complete problem we have seen in this chapter.  \n",
    "\n",
    "(a) SUBGRAPH ISOMORPHISM: Given as input two undirected graphs G and H,  determine whether G is a subgraph of H (that is, whether by deleting  certain vertices and edges of H we obtain a graph that is, up to renaming  of vertices, identical to G), and if so, return the corresponding mapping  of V(G) into V(H). "
   ]
  },
  {
   "cell_type": "markdown",
   "id": "5a12e839",
   "metadata": {},
   "source": [
    "<font color='darkgray'>\n",
    "    \n",
    "<b>My Solution</b>\n",
    "\n",
    "</font>"
   ]
  },
  {
   "cell_type": "markdown",
   "id": "90f281c6",
   "metadata": {},
   "source": [
    "-----\n",
    "<font color='red'><b>Sample Solution</b></font>"
   ]
  },
  {
   "cell_type": "code",
   "execution_count": null,
   "id": "40d3864b",
   "metadata": {},
   "outputs": [],
   "source": []
  }
 ],
 "metadata": {
  "kernelspec": {
   "display_name": "Python [conda env:plotting]",
   "language": "python",
   "name": "conda-env-plotting-py"
  },
  "language_info": {
   "codemirror_mode": {
    "name": "ipython",
    "version": 3
   },
   "file_extension": ".py",
   "mimetype": "text/x-python",
   "name": "python",
   "nbconvert_exporter": "python",
   "pygments_lexer": "ipython3",
   "version": "3.8.17"
  }
 },
 "nbformat": 4,
 "nbformat_minor": 5
}
