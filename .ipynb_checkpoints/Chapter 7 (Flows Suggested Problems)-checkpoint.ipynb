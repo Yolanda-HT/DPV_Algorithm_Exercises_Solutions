{
 "cells": [
  {
   "cell_type": "markdown",
   "id": "0ce6f013",
   "metadata": {},
   "source": [
    "## 7.18(a,b)\n",
    "\n",
    "There are many common variations of the maximum flow problem. Here are  four of them.  \n",
    "\n",
    "(a) There are many sources and many sinks, and we wish to maximize the  total flow from all sources to all sinks.  \n",
    "\n",
    "(b) Each vertex also has a capacity on the maximum flow that can enter it. \n",
    "\n",
    "-----"
   ]
  },
  {
   "cell_type": "markdown",
   "id": "29578e77",
   "metadata": {},
   "source": [
    "(a) \n",
    "\n",
    "- Add super source node S with flow to each source s_1, s_2, ... with capacity equal to the sum of s_i's total outgoing\n",
    "- Same for sink\n",
    "\n",
    "(b)\n",
    "\n",
    "- For each vertex u, add u' so that u, u' is capacity of u"
   ]
  },
  {
   "cell_type": "markdown",
   "id": "49824255",
   "metadata": {},
   "source": [
    "## 7.19\n",
    "\n",
    "Suppose someone presents you with a solution to a max-flow problem on some  network. Give a linear time algorithm to determine whether the solution does  indeed give a maximum flow. \n",
    "\n",
    "-----"
   ]
  },
  {
   "cell_type": "markdown",
   "id": "05c5d0c5",
   "metadata": {},
   "source": [
    "- Use DFS to check residual network for augmenting path"
   ]
  },
  {
   "cell_type": "markdown",
   "id": "5fc7328f",
   "metadata": {},
   "source": [
    "## 7.21\n",
    "\n",
    "An edge of a flow network is called critical if decreasing the capacity of this edge  results in a decrease in the maximum flow. Give an efficient algorithm that finds  a critical edge in a network. \n",
    "\n",
    "-----"
   ]
  },
  {
   "cell_type": "markdown",
   "id": "12735acb",
   "metadata": {},
   "source": [
    "- Use Edmonds-Karp to find max flow (O(nm^2))\n",
    "- Run DFS on max flow residual graph (O(m+n))\n",
    "    - Find edges that are maxed out in max flow (O(m))\n",
    "    - Remove edges that are not reachable from s\n",
    "    - The rest of edges are key edges"
   ]
  },
  {
   "cell_type": "markdown",
   "id": "d4f2140e",
   "metadata": {},
   "source": [
    "## 7.22\n",
    "\n",
    "In a particular network G = (V, E) whose edges have integer capacities ce, we  have already found the maximum flow f from node s to node t. However, we  now find out that one of the capacity values we used was wrong: for edge (u, v)  we used cuv whereas it should have been cuv − 1. This is unfortunate because  the flow f uses that particular edge at full capacity: fuv = cuv.  We could redo the flow computation from scratch, but there’s a faster way. Show  how a new optimal flow can be computed in O(|V|+|E |) time. \n",
    "\n",
    "-----"
   ]
  },
  {
   "cell_type": "markdown",
   "id": "33b10b4f",
   "metadata": {},
   "source": [
    "- If the edge is a critical edge, after modification f' = f - 1\n",
    "- If the edge is not a critical edge, f' = f"
   ]
  },
  {
   "cell_type": "markdown",
   "id": "95419b9a",
   "metadata": {},
   "source": [
    "## 7.24(\\*hard)\n",
    "\n",
    "Direct bipartite matching. We’ve seen how to find a maximum matching in a  bipartite graph via reduction to the maximum flow problem. We now develop a  direct algorithm.  Let G = (V1 ∪ V2, E) be a bipartite graph (so each edge has one endpoint in V1  and one endpoint in V2), and let M ∈ E be a matching in the graph (that is, a set  of edges that don’t touch). A vertex is said to be covered by M if it is the endpoint of one of the edges in M. An alternating path is a path of odd length  that starts and ends with a non-covered vertex, and whose edges alternate  between M and E − M.  \n",
    "\n",
    "(a) In the bipartite graph below, a matching M is shown in bold. Find an  alternating path.  A  B  C  D  E  F  G  H  I  \n",
    "\n",
    "(b) Prove that a matching M is maximum if and only if there does not exist an alternating path with respect to it. \n",
    "\n",
    "(c) Design an algorithm that finds an alternating path in O(|V|+|E|) time  using a variant of breadth-first search.  \n",
    "\n",
    "(d) Give a direct O(|V|·|E|) algorithm for finding a maximum matching in a  bipartite graph. \n",
    "\n",
    "-----"
   ]
  },
  {
   "cell_type": "markdown",
   "id": "6eb5bf76",
   "metadata": {},
   "source": [
    "(a) D, F, B, E, A, H, C, I\n",
    "\n",
    "(b) Convert problem into max flow\n",
    "\n",
    "- Add a source node S with directed edges towards all nodes in V1. \n",
    "- Add a sink node T with directed edges from all nodes in V2 to E.\n",
    "- Convert all edges from V1 to V2 to directed edges with direction from V1 nodes to V2 nodes.\n",
    "- Each node is weight = 1\n",
    "\n",
    "- Maximum matching M is the max flow from S to E.\n",
    "- If there is a alternating path, that means there is an augumenting path.\n",
    "\n",
    "(c) DFS search for augumenting path\n",
    "\n",
    "(d) Use Ford-Fulkerson\n",
    "\n",
    "- max(C) < |V|\n",
    "- O(|E|C) -> O(|V||E|)"
   ]
  },
  {
   "cell_type": "code",
   "execution_count": null,
   "id": "c82ff4a8",
   "metadata": {},
   "outputs": [],
   "source": []
  },
  {
   "cell_type": "code",
   "execution_count": null,
   "id": "9b68d0d1",
   "metadata": {},
   "outputs": [],
   "source": []
  }
 ],
 "metadata": {
  "kernelspec": {
   "display_name": "Python [conda env:plotting]",
   "language": "python",
   "name": "conda-env-plotting-py"
  },
  "language_info": {
   "codemirror_mode": {
    "name": "ipython",
    "version": 3
   },
   "file_extension": ".py",
   "mimetype": "text/x-python",
   "name": "python",
   "nbconvert_exporter": "python",
   "pygments_lexer": "ipython3",
   "version": "3.8.17"
  }
 },
 "nbformat": 4,
 "nbformat_minor": 5
}
