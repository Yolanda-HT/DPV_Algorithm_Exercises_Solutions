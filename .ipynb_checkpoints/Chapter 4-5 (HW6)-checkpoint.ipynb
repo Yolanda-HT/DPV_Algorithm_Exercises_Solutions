{
 "cells": [
  {
   "cell_type": "markdown",
   "id": "0e3bdac8",
   "metadata": {},
   "source": [
    "## 4.14 (Shortest path through a given vertex)\n",
    "\n",
    "-----"
   ]
  },
  {
   "cell_type": "markdown",
   "id": "9e867946",
   "metadata": {},
   "source": [
    "Run Djistra on G from v0\n",
    "\n",
    "Run Djistra on reverse of G (Gr) from v0\n",
    "\n",
    "For each pair (u,v), shortest path is (u,v0) and (v0,v)\n",
    "- (u,v0) can be found from Gr's Djistra output\n",
    "- (v0, v) can be found from G's Djistra output"
   ]
  },
  {
   "cell_type": "markdown",
   "id": "f3c8834c",
   "metadata": {},
   "source": [
    "<font color=\"blue\"><b>Sample Answer:<b></font>\n",
    "    \n",
    "<font color=\"blue\">\n",
    "(a) Algorithm:\n",
    "<br>\n",
    "Run Dijkstra’s algorithm from 𝑣0 to get all distances from 𝑣0 to all vertices in 𝑉 . Reverse the graph\n",
    "and run Dijkstra’s again from 𝑣0 - the output corresponds to the distances of the shortest path from\n",
    "all other vertices to 𝑣0 in the original graph. For any pair of vertices 𝑢, 𝑤 ∈ 𝑉 , the shortest distance\n",
    "from 𝑢 to 𝑤 using a path through 𝑣0 will be the sum of the two distances, 𝑢 to 𝑣0 in the reverse\n",
    "graph and 𝑣0 to 𝑤 in the original graph. Any single path 𝑢 ⇝ 𝑣0 ⇝ 𝑤 may be recovered using the\n",
    "prev[] arrays which result from each run of Dijkstra.\n",
    "<br>\n",
    "<br>\n",
    "(b) Justification of Correctness:\n",
    "<br>\n",
    "This algorithm works because our graph is strongly connected, meaning that a path exists between\n",
    "every pair of vertices. We also know that Dijkstra’s, given a starting vertex and non-negative edge\n",
    "weights, will find the shortest path from that starting point to every other vertex. Reversing a\n",
    "directed graph essentially reverses the direction of the path between any pair of vertices. So, the\n",
    "shortest path from 𝑢 to 𝑤 which includes 𝑣0 is the combination of the shortest path from 𝑢 to 𝑣0 in\n",
    "the reversed graph plus the shortest path from 𝑣0 to 𝑤 in the original graph.\n",
    "<br>\n",
    "<br>\n",
    "(c) Runtime Analysis:\n",
    "Each round of Dijkstra’s takes 𝑂((𝑚 + 𝑛) log(𝑛)) which simplifies to 𝑂(𝑚 log 𝑛) since the graph\n",
    "is strongly connected. Building the reverse graph takes 𝑂(𝑛 + 𝑚) time. Obtaining the necessary\n",
    "structures (dist[] and prev[]) from which the shortest paths can be obtained is thus 𝑂(𝑚 log 𝑛).\n",
    "</font>"
   ]
  },
  {
   "cell_type": "markdown",
   "id": "8fbc274a",
   "metadata": {},
   "source": [
    "## 5.1 (Practice fundamentals of MST designs)\n",
    "\n",
    "-----"
   ]
  },
  {
   "cell_type": "markdown",
   "id": "c6429b6f",
   "metadata": {},
   "source": [
    "(a) 19\n",
    "\n",
    "(b) 2\n",
    "\n",
    "(c) (A,E) (E,F) (B,F) (F,G) (G,H) (C,G) (G,D)"
   ]
  },
  {
   "cell_type": "markdown",
   "id": "f1ec629b",
   "metadata": {},
   "source": [
    "## 5.2 (Practice fundamentals of MST designs)\n",
    "\n",
    "-----"
   ]
  },
  {
   "cell_type": "markdown",
   "id": "d35832a4",
   "metadata": {},
   "source": [
    "__Prim's__\n",
    "\n",
    "Fill table:\n",
    "| Vertice added | Edge exploring | total weight | A | B | C | D | E | F | G | H |\n",
    "| ------------- | -------------- | ------------ | - | - | - | - | - | - | - | - |\n",
    "| None | None | 0 | 0/nil | inf/nil |inf/nil |inf/nil |inf/nil |inf/nil |inf/nil | inf/nil |\n",
    "| A | None | 0 | 0/nil | 1/A |inf/nil |inf/nil | 4/A | 8/A |inf/nil | inf/nil |"
   ]
  },
  {
   "cell_type": "markdown",
   "id": "a78c0847",
   "metadata": {},
   "source": [
    "__Kruskal's__\n",
    "\n",
    "Fill table:\n",
    "\n",
    "| Edge | Weight | A | B | C | D | E | F | G | H |\n",
    "| ---- | ------ | - | - | - | - | - | - | - | - |\n",
    "| AB | 1 | B | B | C | D | E | F | G | H |\n",
    "| DG | 1 | B | B | C | G | E | F | G | H |"
   ]
  },
  {
   "cell_type": "markdown",
   "id": "9b417fe5",
   "metadata": {},
   "source": [
    "## 5.9 (multiple statements about MST. We will provide the answer to a few, you are welcome to try them all)\n",
    "\n",
    "\n",
    "-----"
   ]
  },
  {
   "cell_type": "markdown",
   "id": "c8fce7fc",
   "metadata": {},
   "source": [
    "- (a) False\n",
    "- (b) True\n",
    "- (c) True\n",
    "- (d) True\n",
    "- (e) True\n",
    "- (f) False\n",
    "- (g) False\n",
    "- (h) True <font color=\"red\">False</font>\n",
    "- (i) False <font color=\"red\">True</font>\n",
    "- (j) False <font color=\"red\">True</font>"
   ]
  },
  {
   "cell_type": "markdown",
   "id": "eae05dee",
   "metadata": {},
   "source": [
    "### The following statements may or may not be correct. In each case, either prove it  (if it is correct) or give a counterexample (if it isn’t correct). Always assume that  the graph G = (V, E) is undirected and connected. Do not assume that edge  weights are distinct unless this is specifically stated. \n",
    "\n",
    "\n",
    "#### (a) If graph G has more than |V| − 1 edges, and there is a unique heaviest  edge, then this edge cannot be part of a minimum spanning tree.  \n",
    "\n",
    "False.\n",
    "Counterexample: vertices \\{A,B,C,D\\}. Edges AB=1, BC=1, CA=1 (a triangle) and a bridge AD=10. There are 4>|V|-1 edges, the unique heaviest edge is AD, and since it’s a bridge it must be in every MST (otherwise D is disconnected).\n",
    "\n",
    "#### (b) If G has a cycle with a unique heaviest edge e, then e cannot be part of  any MST.\n",
    "\n",
    "True.\n",
    "By the cycle property: if a cycle has a unique heaviest edge e, then no MST can contain e.\n",
    "\n",
    "#### (c) Let e be any edge of minimum weight in G. Then e must be part of some  MST.\n",
    "\n",
    "True.\n",
    "Let e=(u,v) be a global minimum-weight edge. Consider the cut (S,\\bar S) with u\\in S, v\\in \\bar S. Since e has minimum weight over the whole graph, it is a lightest edge across this cut; by the cut property, some MST contains e.\n",
    "\n",
    "#### (d) If the lightest edge in a graph is unique, then it must be part of every  MST. \n",
    "\n",
    "True.\n",
    "If the lightest edge in the graph is unique, then for the cut separating its endpoints it’s the unique lightest; by the cut property, it appears in every MST.\n",
    "\n",
    "#### (e) If e is part of some MST of G, then it must be a lightest edge across some  cut of G. \n",
    "\n",
    "True.\n",
    "Let T be an MST containing e. Remove e from T; this creates a cut (S,\\bar S). If there were an edge f across this cut with weight < w(e), swapping e out for f would yield a lighter spanning tree—contradiction. Hence e is a lightest (possibly tied) edge across that cut.\n",
    "\n",
    "#### (f) If G has a cycle with a unique lightest edge e, then e must be part of  every MST. \n",
    "\n",
    "False.\n",
    "Counterexample: square 1\\!-\\!2\\!-\\!3\\!-\\!4\\!-\\!1 with weights w(1,2)=1 (unique lightest on that cycle), w(2,3)=w(3,4)=w(4,1)=2, and add diagonal w(2,4)=1. An MST can use edges (2,4),(4,3),(4,1) (total 5) and omit (1,2). Another MST includes (1,2) with the same total 5. So the unique lightest edge on a cycle need not be in every MST.\n",
    "\n",
    "#### (g) The shortest-path tree computed by Dijkstra’s algorithm is necessarily an  MST. \n",
    "\n",
    "False.\n",
    "Counterexample: triangle A\\!-\\!B\\!-\\!C with AB=1, AC=2, BC=1. Dijkstra from A yields the shortest-path tree with edges \\{AB,AC\\}. An MST is \\{AB,BC\\} (total 2), which differs from the SPT.\n",
    "\n",
    "<font color=\"red\">\n",
    "    \n",
    "#### (h) The shortest path between two nodes is necessarily part of some MST. \n",
    "\n",
    "False.\n",
    "Counterexample: triangle with AB=2, BC=1, AC=3. The (a) shortest path A\\!\\to\\!C can be the single edge AC (length 3); but every MST is \\{AB,BC\\} and does not contain edge AC. Thus the shortest path need not be contained in any MST.\n",
    "\n",
    "#### (i) Prim’s algorithm works correctly when there are negative edges. \n",
    "\n",
    "True.\n",
    "Prim’s algorithm is correct with arbitrary real weights (including negatives). Its correctness relies on the cut property and always adding a lightest crossing edge; negative values don’t break this invariant. (Contrast: Dijkstra’s SSSP does fail with negative edges.)\n",
    "\n",
    "#### (j) (For any r > 0, define an r-path to be a path whose edges all have weight  < r.) If G contains an r-path from node s to t, then every MST of G must  also contain an r-path from node s to node t. \n",
    "\n",
    "True.\n",
    "Let T be any MST, and let P_T(s,t) be its unique s\\!-\\!t path. Suppose some edge e on P_T has w(e)\\ge r. Remove e; this creates a cut (S,\\bar S) separating s and t. Since the original graph has an r-path from s to t, some edge f of that path crosses this cut with w(f)<r\\le w(e), contradicting the cut property for T. Hence all edges on P_T have weight <r, so T contains an r-path from s to t.\n",
    "<font>"
   ]
  },
  {
   "cell_type": "code",
   "execution_count": null,
   "id": "bbffec81",
   "metadata": {},
   "outputs": [],
   "source": []
  }
 ],
 "metadata": {
  "kernelspec": {
   "display_name": "Python [conda env:plotting]",
   "language": "python",
   "name": "conda-env-plotting-py"
  },
  "language_info": {
   "codemirror_mode": {
    "name": "ipython",
    "version": 3
   },
   "file_extension": ".py",
   "mimetype": "text/x-python",
   "name": "python",
   "nbconvert_exporter": "python",
   "pygments_lexer": "ipython3",
   "version": "3.8.17"
  }
 },
 "nbformat": 4,
 "nbformat_minor": 5
}
