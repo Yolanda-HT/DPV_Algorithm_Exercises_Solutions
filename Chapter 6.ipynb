{
 "cells": [
  {
   "cell_type": "markdown",
   "id": "3357967e",
   "metadata": {},
   "source": [
    "## 6.4\n",
    "You are given a string of n characters s[1... n], which you believe to be a  corrupted text document in which all punctuation has vanished (so that it looks  something like “itwasthebestoftimes...”). You wish to reconstruct the document  using a dictionary, which is available in the form of a Boolean function dict(·):  for any string w,  \n",
    "\n",
    "dict(w) =  true if w is a valid word  false otherwise.  \n",
    "\n",
    "(a) Give a dynamic programming algorithm that determines whether the  string s[·] can be reconstituted as a sequence of valid words. The running  time should be at most O(n2), assuming calls to dict take unit time.  \n",
    "\n",
    "(b) In the event that the string is valid, make your algorithm output the  corresponding sequence of words. "
   ]
  },
  {
   "cell_type": "markdown",
   "id": "78a36300",
   "metadata": {},
   "source": [
    "-----\n",
    "- Table\n",
    "    - E[i]: whether i is the ENDING of an word (True: end of word, False: not end of word)\n",
    "- Recurrence: \n",
    "    - For 1 <= i <= n:\n",
    "        - lastword = ''\n",
    "        - For 1 <= j < i: Find the word from last word ending\n",
    "            - If E[j] == True:\n",
    "                - lastword = ''\n",
    "            - else:\n",
    "                - lastword append s[j]\n",
    "        - E[i] = whether lastword is in dictionary\n",
    "- Extraction:\n",
    "    - If E[n] = True:\n",
    "        lastword = ''\n",
    "        - For 1 <= i <= n:\n",
    "            - if E[i] == True:\n",
    "                return lastword\n",
    "            - else:\n",
    "               lastword append s[i]\n",
    "\n",
    "- Complexity:\n",
    "    - Number of subproblems: O(n)\n",
    "    - Runtime to fill table using recurrence: O(n^2)\n",
    "    - Return extraction: Go through E[i]\n",
    "    - Runtime of return extraction: O(n)"
   ]
  },
  {
   "cell_type": "markdown",
   "id": "72c9b821",
   "metadata": {},
   "source": [
    "## 6.8\n",
    "\n",
    "Given two strings x = x1x2 ··· xn and y = y1 y2 ··· ym, we wish to find the length  of their longest common substring, that is, the largest k for which there are  indices i and j with xi xi+1 ··· xi+k−1 = yj yj+1 ··· yj+k−1. Show how to do this in  time O(mn). "
   ]
  },
  {
   "cell_type": "markdown",
   "id": "051344b0",
   "metadata": {},
   "source": [
    "-----\n",
    "- Table:\n",
    "    - n row, m columns\n",
    "    - T[i][j]: Length of longest common substring of x_1, x_2,..., x_i and y_1, y_2, ..., y_j\n",
    "- Recurrence:\n",
    "    - Base case: T[i][0] = 0, T[0][j] = 0\n",
    "    - For 1 <= i <= n:\n",
    "        - For 1 <= j <= m:\n",
    "            - if x[i] == y[j]:\n",
    "                - T[i][j] = T[i-1][j-1] +1\n",
    "            - else:\n",
    "                - T[i][j] = 0\n",
    "- Complexity:\n",
    "    - Number of subproblems: O(n\\*m)\n",
    "    - Runtime to fill table using recurrence: O(n\\*m)\n",
    "    - Return extraction: max value of the table\n",
    "    - Runtime of return extraction: O(n\\*m)\n",
    "            \n",
    "            "
   ]
  },
  {
   "cell_type": "markdown",
   "id": "bc55fcb8",
   "metadata": {},
   "source": [
    "## 6.18\n",
    "Consider the following variation on the change-making problem (Exercise 6.17):  you are given denominations x1, x2,..., xn, and you want to make change for a  value v, but you are allowed to use each denomination at most once. For  instance, if the denominations are 1, 5, 10, 20, then you can make change for  16 = 1 + 15 and for 31 = 1 + 10 + 20 but not for 40 (because you can’t use 20  twice).  \n",
    "- Input: Positive integers x1, x2,..., xn; another integer v.  \n",
    "- Output: Can you make change for v, using each denomination xi at most  once?  Show how to solve this problem in time O(nv). "
   ]
  },
  {
   "cell_type": "markdown",
   "id": "de98b40f",
   "metadata": {},
   "source": [
    "-----\n",
    "- Table:\n",
    "    - v rows, n columns\n",
    "    - T[i][j]: whether value i can be make with x_1, x_2, ... x_j\n",
    "- Recurrence:\n",
    "    - Base case: T[i][j] = 0\n",
    "    - For 1 <= j <= n:\n",
    "        - For 1 <= i <= v:\n",
    "            - Determine whether T[i][j] - x[i] can be made up by any combination of x_1, x_2, ... x_(i-1):\n",
    "                   - Sum(T[i-x[i]]) > 0: T[i][j] = 1\n",
    "                   - else: T[i][j] = 0\n",
    "- Complexity:\n",
    "    - Number of subproblems: O(n\\*v)\n",
    "    - Runtime to fill table using reccurence: O(n\\*v)\n",
    "    - Return extraction: Sum T[v][j] "
   ]
  },
  {
   "cell_type": "code",
   "execution_count": null,
   "id": "b0f8a403",
   "metadata": {},
   "outputs": [],
   "source": []
  }
 ],
 "metadata": {
  "kernelspec": {
   "display_name": "Python [conda env:plotting]",
   "language": "python",
   "name": "conda-env-plotting-py"
  },
  "language_info": {
   "codemirror_mode": {
    "name": "ipython",
    "version": 3
   },
   "file_extension": ".py",
   "mimetype": "text/x-python",
   "name": "python",
   "nbconvert_exporter": "python",
   "pygments_lexer": "ipython3",
   "version": "3.8.17"
  }
 },
 "nbformat": 4,
 "nbformat_minor": 5
}
