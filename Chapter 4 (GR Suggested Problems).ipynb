{
 "cells": [
  {
   "cell_type": "markdown",
   "id": "2fb963e0",
   "metadata": {},
   "source": [
    "## 4.1\n",
    "\n",
    "Suppose Dijkstra’s algorithm is run on the following graph, starting at node A.  A B C D  E F G H  1 2  8 6 2 1 4  5  4 6  1 1  1  \n",
    "\n",
    "(a) Draw a table showing the intermediate distance values of all the nodes at  each iteration of the algorithm.  \n",
    "\n",
    "(b) Show the final shortest-path tree. \n",
    "\n",
    "-----"
   ]
  },
  {
   "cell_type": "markdown",
   "id": "6351a5b9",
   "metadata": {},
   "source": [
    "Table\n",
    "\n",
    "| Set node | A | B | C | ... |\n",
    "| -------- | - | - | - |  -  |\n",
    "| None | 0/nil | - | - | - |\n",
    "| A | - | 1/A | - | - | - |\n"
   ]
  },
  {
   "cell_type": "markdown",
   "id": "20513430",
   "metadata": {},
   "source": [
    "## 4.2\n",
    "\n",
    "Just like the previous problem, but this time with the Bellman-Ford algorithm. \n",
    "\n",
    "-----"
   ]
  },
  {
   "cell_type": "markdown",
   "id": "b39e7ec3",
   "metadata": {},
   "source": [
    "Table\n",
    "\n",
    "| Allowed Edge # | A | B | ... |\n",
    "| -------------- | - | - | --- |\n",
    "| 0 | 0 | inf | - |"
   ]
  },
  {
   "cell_type": "markdown",
   "id": "9347151c",
   "metadata": {},
   "source": [
    "## 4.3\n",
    "\n",
    "Squares. Design and analyze an algorithm that takes as input an undirected  graph G = (V, E) and determines whether G contains a simple cycle (that is, a  cycle which doesn’t intersect itself) of length four. Its running time should be at  most O(|V| 3).  You may assume that the input graph is represented either as an adjacency  matrix or with adjacency lists, whichever makes your algorithm simpler. \n",
    "\n",
    "-----"
   ]
  },
  {
   "cell_type": "markdown",
   "id": "17cdea09",
   "metadata": {},
   "source": [
    "Suppose the input graph G is given as an adjacency matrix. Notice that G contains a square if and\n",
    "only if there are two vertices u and v that share more than one neighbor. For any u, v we can check\n",
    "this in time O(|V |) by comparing the row of u and the row of v in the adjacency matrix of G. Because\n",
    "we need to repeat this process O(|V |2) to iterate over all u and v, this algorithm has running time\n",
    "O(|V |3). We can do better by noticing that, when comparing the rows of the adjacency matrix au\n",
    "and av, we are actually checking if au · av is greater than 1, i.e. if [A(G)2]uv > 1. It suffices then to compute A(G), which we can do in time O(|V |2.71 using our matrix multiplication algorithm and check\n",
    "all non-diagonal entries to see if we find one larger than 1."
   ]
  },
  {
   "cell_type": "markdown",
   "id": "7ce1cf47",
   "metadata": {},
   "source": [
    "## 4.8\n",
    "\n",
    "Professor F. Lake suggests the following algorithm for finding the shortest path  from node s to node t in a directed graph with some negative edges: add a large  constant to each edge weight so that all the weights become positive, then run  Dijkstra’s algorithm starting at node s, and return the shortest path found to  node t.  Is this a valid method? Either prove that it works correctly, or give a  counterexample. \n",
    "\n",
    "-----"
   ]
  },
  {
   "cell_type": "markdown",
   "id": "6c236baa",
   "metadata": {},
   "source": [
    "False\n",
    "\n",
    "- Original: [A]-(-2)-[B]-(-2)-[C], [A]-(-3)-[C], shorted path: A-B-C\n",
    "- New: [A]-(1)-[B]-(1)-[C], [A]-(0)-[C], shortest path: A-C"
   ]
  },
  {
   "cell_type": "markdown",
   "id": "e82765cd",
   "metadata": {},
   "source": [
    "## 4.11\n",
    "\n",
    "Give an algorithm that takes as input a directed graph with positive edge  lengths, and returns the length of the shortest cycle in the graph (if the graph is  acyclic, it should say so). Your algorithm should take time at most O(|V| 3). \n",
    "\n",
    "-----"
   ]
  },
  {
   "cell_type": "markdown",
   "id": "28e34dca",
   "metadata": {},
   "source": [
    "依次以每个顶点s∈V 为源点，利用 Dijkstra 算法寻找到其余顶点的最短路径，这\n",
    "样在 ( ) ( ) 2 3 O V iV = O V 时间内就找到了任意两个顶点之间的最短路径。这时，\n",
    "对于任意顶点对(u,v)，有(u,v)之间的环的最短长度为dist (u,v) + dist (v,u)。\n",
    "于是枚举所有的边e(u,v)，依次计算dist (u,v) + dist (v,u)，取其中的最小值就\n",
    "得到了图G 中最短环的长度，如果这个最小值是∞ ，则说明图G 中不存在环。"
   ]
  },
  {
   "cell_type": "markdown",
   "id": "23b6dbf8",
   "metadata": {},
   "source": [
    "## 4.12\n",
    "\n",
    "Give an O(|V| 2) algorithm for the following task.  Input: An undirected graph G = (V, E); edge lengths le > 0; an edge e ∈ E.  Output: The length of the shortest cycle containing edge e. \n",
    "\n",
    "-----"
   ]
  },
  {
   "cell_type": "markdown",
   "id": "acb18b33",
   "metadata": {},
   "source": [
    "设这条边为e(u,v)，先在图G 中除去边e，再用 Dijkstra 算法寻找(u,v)之间的最\n",
    "短路径长度，最后再加上e(u,v)的长度，就得到了包含边e的最短环长度。"
   ]
  },
  {
   "cell_type": "markdown",
   "id": "8dfb3573",
   "metadata": {},
   "source": [
    "## 4.13\n",
    "\n",
    "You are given a set of cities, along with the pattern of highways between them,  in the form of an undirected graph G = (V, E). Each stretch of highway e ∈ E  connects two of the cities, and you know its length in miles, le. You want to get from city s to city t. There’s one problem: your car can only hold enough gas to  cover L miles. There are gas stations in each city, but not between cities.  Therefore, you can only take a route if every one of its edges has length le ≤ L.  \n",
    "\n",
    "(a) Given the limitation on your car’s fuel tank capacity, show how to  determine in linear time whether there is a feasible route from s to t.  \n",
    "\n",
    "(b) You are now planning to buy a new car, and you want to know the  minimum fuel tank capacity that is needed to travel from s to t. Give an  O((|V|+|E |) log |V|) algorithm to determine this. \n",
    "\n",
    "-----"
   ]
  },
  {
   "cell_type": "markdown",
   "id": "74f380b5",
   "metadata": {},
   "source": [
    "a) 以 s 为起点DFS 或BFS 即可，遇到长度大于L 的边则当作断路处理。\n",
    "\n",
    "b) 即是求从 s 到t 的所有路径的最长边的最小值，同样可以利用Dijkstra 算法来完\n",
    "成。只是需要修改update 过程如下：\n",
    "\n",
    "```\n",
    "for all edges (u, v) in E:\n",
    "    if fuel(v) > max(fuel(u), l(u,v)):\n",
    "        fuel(v) = max(fuel(u), l(u,v))\n",
    "```\n",
    "\n",
    "这个算法的正确性依赖于下面这个事实，如果路径s→􀀢→r →t 所需的最\n",
    "小储油量为l，则路径s→􀀢→r所需的最小储油量定然小于等于l，这使得\n",
    "得Dijkstra 算法总是能按照正确的顺序依次找到从源点s 到其余所有顶点的路\n",
    "径的最长边的最小长度，也即是所需的最小储油量。"
   ]
  },
  {
   "cell_type": "markdown",
   "id": "4e63dc40",
   "metadata": {},
   "source": [
    "## 4.20\n",
    "\n",
    "There is a network of roads G = (V, E) connecting a set of cities V. Each road in  E has an associated length le. There is a proposal to add one new road to this network, and there is a list E \u0005 of pairs of cities between which the new road can  be built. Each such potential road e\u0005 ∈ E \u0005 has an associated length. As a designer  for the public works department you are asked to determine the road e\u0005 ∈ E \u0005  whose addition to the existing network G would result in the maximum  decrease in the driving distance between two fixed cities s and t in the network.  Give an efficient algorithm for solving this problem. \n",
    "\n",
    "-----"
   ]
  },
  {
   "cell_type": "markdown",
   "id": "53a2019b",
   "metadata": {},
   "source": [
    "为方便表示，设 Dijkstra 算法的时间复杂度为Dijkstra (G)。首先与s为源点，计\n",
    "算到其余所有点的最短路。遍历边集E '，对于任意边e '(u,v)∈E '，如果dist (v,t )\n",
    "未计算过，则以v 为源点寻找到顶点t 的最短路。设 dec 为图G 加上边e '后\n",
    "dist (s,t )的缩减值，则如果dist (s,u) + l (u,v) + dist (v,t ) ≥ dist (s,t )，dec = 0，\n",
    "否则dec = dist (s,t ) −(dist (s,u) + l (u,v) + dist (v,t ))，找出令dec 最大的边e '\n",
    "即可，时间复杂度为O(Dijkstra(G)imax ( V , E ' ))。"
   ]
  },
  {
   "cell_type": "markdown",
   "id": "334bf628",
   "metadata": {},
   "source": [
    "## 4.21\n",
    "\n",
    "Shortest path algorithms can be applied in currency trading. Let c1, c2,..., cn be  various currencies; for instance, c1 might be dollars, c2 pounds, and c3 lire. For  any two currencies ci and c j, there is an exchange rate ri,j; this means that you  can purchase ri,j units of currency c j in exchange for one unit of ci. These  exchange rates satisfy the condition that ri,j · rj,i < 1, so that if you start with a  unit of currency ci, change it into currency c j and then convert back to currency  ci, you end up with less than one unit of currency ci (the difference is the cost of  the transaction).  \n",
    "\n",
    "(a) Give an efficient algorithm for the following problem: Given a set of  exchange rates ri,j, and two currencies s and t, find the most  advantageous sequence of currency exchanges for converting currency s  into currency t. Toward this goal, you should represent the currencies  and rates by a graph whose edge lengths are real numbers.  \n",
    "\n",
    "The exchange rates are updated frequently, reflecting the demand and supply of  the various currencies. Occasionally the exchange rates satisfy the following  property: there is a sequence of currencies ci1, ci2 ,..., cik such that  ri1,i2 · ri2,i3 ···rik−1,ik · rik,i1 > 1. This means that by starting with a unit of currency  ci1 and then successively converting it to currencies ci2, ci3 ,..., cik, and finally  back to ci1, you would end up with more than one unit of currency ci1. Such  anomalies last only a fraction of a minute on the currency exchange, but they  provide an opportunity for risk-free profits.  \n",
    "\n",
    "(b) Give an efficient algorithm for detecting the presence of such an  anomaly. Use the graph representation you found above. \n",
    "\n",
    "-----"
   ]
  },
  {
   "cell_type": "markdown",
   "id": "16178ad5",
   "metadata": {},
   "source": [
    "a) 建立有向图G(V, E)，其中边e(i, j)的长度l (i, j) = r (i, j)。用money ( x)表\n",
    "示一个单位的 s 币最多能换到多少个单位的 x 币。首先令money (s) =1，\n",
    "( ) 0 x v money x ≠ = ，使用Bellman-Ford 算法，并修改update 过程如下：\n",
    "\n",
    "\n",
    "```\n",
    "procedure update ((u,v) in E):\n",
    "    if money(v) < money(u)*l(u,v):\n",
    "        money(v) = money(u)*l(u,v)\n",
    "```\n",
    "\n",
    "如果图G 中不存在下一问中所述的anomaly，那么任意两顶点之间的“最大兑\n",
    "换路径”至多有 V −1条边，所以 Bellman-Ford 算法一定能成功找到这条路径。\n",
    "\n",
    "b) 即类似于“负权回路”的情况，在Bellman-Ford 算法完成之后，再对所有边进\n",
    "行一次update 过程，如果有某个顶点的money 值增加了，说明存在anomaly。"
   ]
  }
 ],
 "metadata": {
  "kernelspec": {
   "display_name": "Python [conda env:plotting]",
   "language": "python",
   "name": "conda-env-plotting-py"
  },
  "language_info": {
   "codemirror_mode": {
    "name": "ipython",
    "version": 3
   },
   "file_extension": ".py",
   "mimetype": "text/x-python",
   "name": "python",
   "nbconvert_exporter": "python",
   "pygments_lexer": "ipython3",
   "version": "3.8.17"
  }
 },
 "nbformat": 4,
 "nbformat_minor": 5
}
