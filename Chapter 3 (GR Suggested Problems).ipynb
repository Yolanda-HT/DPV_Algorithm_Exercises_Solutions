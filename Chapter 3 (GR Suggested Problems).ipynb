{
 "cells": [
  {
   "cell_type": "markdown",
   "id": "52f6f0b9",
   "metadata": {},
   "source": [
    "## 3.1\n",
    "\n",
    "Perform a depth-first search on the following graph; whenever there’s a choice of  vertices, pick the one that is alphabetically first. Classify each edge as a tree edge  or back edge, and give the pre and post number of each vertex.\n",
    "\n",
    "-----"
   ]
  },
  {
   "cell_type": "markdown",
   "id": "4f00f381",
   "metadata": {},
   "source": [
    "Skip"
   ]
  },
  {
   "cell_type": "markdown",
   "id": "45756430",
   "metadata": {},
   "source": [
    "## 3.2\n",
    "\n",
    "Perform depth-first search on each of the following graphs; whenever there’s a  choice of vertices, pick the one that is alphabetically first. Classify each edge as a  tree edge, forward edge, back edge, or cross edge, and give the pre and post  number of each vertex. \n",
    "\n",
    "-----"
   ]
  },
  {
   "cell_type": "markdown",
   "id": "5b32d2bf",
   "metadata": {},
   "source": [
    "Skip"
   ]
  },
  {
   "cell_type": "markdown",
   "id": "14262be8",
   "metadata": {},
   "source": [
    "## 3.7\n",
    "\n",
    "A bipartite graph is a graph G = (V, E) whose vertices can be partitioned into  two sets (V = V1 ∪ V2 and V1 ∩ V2 = ∅) such that there are no edges between  vertices in the same set (for instance, if u, v ∈ V1, then there is no edge between  u and v). \n",
    "\n",
    "(a) Give a linear-time algorithm to determine whether an undirected graph is  bipartite.  \n",
    "\n",
    "(b) There are many other ways to formulate this property. For instance, an  undirected graph is bipartite if and only if it can be colored with just two  colors.  Prove the following formulation: an undirected graph is bipartite if and  only if it contains no cycles of odd length.  \n",
    "\n",
    "(c) At most how many colors are needed to color in an undirected graph  with exactly one odd-length cycle? \n",
    "\n",
    "-----"
   ]
  },
  {
   "cell_type": "markdown",
   "id": "4f04c693",
   "metadata": {},
   "source": [
    "a) 在图上进行 DFS，并将在DFS 树上位于不同层的顶点交替地着上红黑二色，使\n",
    "得每条tree edge的两个顶点颜色都不相同。如果遇到一条non-tree edge (u,v)，\n",
    "且有顶点u,v的颜色相同，则返回假，否则返回真。时间复杂度O(V + E)。\n",
    "\n",
    "b) 根据上面的算法可以知道，一个图为二分的一个充要条件是对于每条non-tree\n",
    "edge (u,v)，有顶点u,v的颜色不相同，也即是在 DFS 树上顶点u,v要间隔奇\n",
    "数层。而环的长度为间隔层数加1，为偶数。于是得证。\n",
    "\n",
    "c) 三种颜色。"
   ]
  },
  {
   "cell_type": "markdown",
   "id": "71e2bb65",
   "metadata": {},
   "source": [
    "## 3.8\n",
    "\n",
    "Pouring water. We have three containers whose sizes are 10 pints, 7 pints, and 4  pints, respectively. The 7-pint and 4-pint containers start out full of water, but  the 10-pint container is initially empty. We are allowed one type of operation:  pouring the contents of one container into another, stopping only when the  source container is empty or the destination container is full. We want to know  if there is a sequence of pourings that leaves exactly 2 pints in the 7- or 4-pint  container.  \n",
    "\n",
    "(a) Model this as a graph problem: give a precise definition of the graph  involved and state the specific question about this graph that needs to be  answered.  \n",
    "\n",
    "(b) What algorithm should be applied to solve the problem? \n",
    "\n",
    "-----"
   ]
  },
  {
   "cell_type": "markdown",
   "id": "4d940dbb",
   "metadata": {},
   "source": [
    "(a) Let G = (V,E) be our (directed) graph. We will model the set of nodes as triples of numbers\n",
    "(a0, a1, a2) where the following relationships hold: Let S0 = 10, S1 = 7,S2 = 4 be the sizes of the\n",
    "corresponding containers. ai will correspond at the actual contents of the ith container. It must\n",
    "hold 0 <= ai <= Si for i = 0, 1, 2 and at any given node a0 + a1 + a2 = 11 (the total amount of\n",
    "water we started from). An edge between two nodes (a0, a1, a2) and (b0, b1, b2) exists if both the\n",
    "following are satisfied :\n",
    "- the two nodes di↵er in exactly two coordinates (and the third one is the same in both).\n",
    "- if i, j are the coordinates they di↵er in, then either ai = 0 or aj = 0 or ai = Si or aj = Sj .\n",
    "The question that needs to be answered is wether there exists a path between the nodes (0, 7, 4)\n",
    "and (⇤, 2, ⇤) or (⇤, ⇤, 2) where ⇤ stands for any (allowed) value of the corresponding coordinate.\n",
    "\n",
    "(b) Given the above description, it is easy to see that a DFS algorithm on that graph should be\n",
    "applied, starting from node (0, 7, 4) with an extra line of code that halts and answers ’YES’ if one\n",
    "of the desired nodes is reached and ’NO’ if all the connected component of the starting node is\n",
    "exhausted an no desired vertex is reached.\n",
    "\n",
    "(c) It is easy to see that after a few steps of the algorithm (depth 6 on the dfs tree) the node (2,7,2)\n",
    "is reached, so we answer ‘YES’."
   ]
  },
  {
   "cell_type": "markdown",
   "id": "99d18d30",
   "metadata": {},
   "source": [
    "## 3.11\n",
    "\n",
    "Design a linear-time algorithm which, given an undirected graph G and a  particular edge e in it, determines whether G has a cycle containing e. \n",
    "\n",
    "-----"
   ]
  },
  {
   "cell_type": "markdown",
   "id": "4eb0fbab",
   "metadata": {},
   "source": [
    "Delete e, run DFS"
   ]
  },
  {
   "cell_type": "markdown",
   "id": "a950588b",
   "metadata": {},
   "source": [
    "## 3.16\n",
    "\n",
    "Suppose a CS curriculum consists of n courses, all of them mandatory. The  prerequisite graph G has a node for each course, and an edge from course v to  course w if and only if v is a prerequisite for w. Find an algorithm that works  directly with this graph representation, and computes the minimum number of  semesters necessary to complete the curriculum (assume that a student can take  any number of courses in one semester). The running time of your algorithm  should be linear. \n",
    "\n",
    "-----"
   ]
  },
  {
   "cell_type": "markdown",
   "id": "f7661c45",
   "metadata": {},
   "source": [
    "The algorithm is to always pick a source, delete it from the graph and then recurse on the resulting\n",
    "graph. A source is just a vertex with indegree 0. Thus, we can find all the sources in the initial graph\n",
    "by performing a DFS and computing the indegree of all the vertices. We add all the vertices with\n",
    "indegree 0 to a list L.\n",
    "\n",
    "At each step, the algorithm then removes an element from L (a source) and reduces the indegree of\n",
    "each of its neighbors by 1 (this corresponds to deleting it from the graph). If this changes the indegree\n",
    "of any vertex to 0, we add it to L. The removed element is assigned the next position in the ordering.\n",
    "\n",
    "Computing all indegrees in the first step only requires a DFS which takes linear time. Subsequently,\n",
    "we only look at each edge (u, v) at most once when we are removing u from L. Hence, the total time\n",
    "is linear in the size of the graph."
   ]
  },
  {
   "cell_type": "markdown",
   "id": "e1ce8937",
   "metadata": {},
   "source": [
    "## 3.22\n",
    "\n",
    "Give an efficient algorithm which takes as input a directed graph G = (V, E),  and determines whether or not there is a vertex s ∈ V from which all other  vertices are reachable. \n",
    "\n",
    "-----"
   ]
  },
  {
   "cell_type": "markdown",
   "id": "2a28f0de",
   "metadata": {},
   "source": [
    "Run SCC, check if there is only one source SCC"
   ]
  },
  {
   "cell_type": "markdown",
   "id": "fe5d5fa1",
   "metadata": {},
   "source": [
    "## 3.24\n",
    "\n",
    "Give a linear-time algorithm for the following task.  \n",
    "\n",
    "Input: A directed acyclic graph G  \n",
    "\n",
    "Question: Does G contain a directed path that touches every vertex exactly once? \n",
    "\n",
    "-----"
   ]
  },
  {
   "cell_type": "markdown",
   "id": "32ad2ffe",
   "metadata": {},
   "source": [
    "Start by linearizing the DAG. Since the edges can only go in the increasing direction in the linearized\n",
    "order, and the required path must touch all the vertices, we simply check if the DAG has an edge (i, i+1)\n",
    "for every pair of consecutive vertices labelled i and i + 1 in the linearized order. Both, linearization\n",
    "and checking outgoing edges from every vertex, take linear time and hence the total running time is\n",
    "linear."
   ]
  },
  {
   "cell_type": "code",
   "execution_count": null,
   "id": "68eb0e0c",
   "metadata": {},
   "outputs": [],
   "source": []
  }
 ],
 "metadata": {
  "kernelspec": {
   "display_name": "Python [conda env:plotting]",
   "language": "python",
   "name": "conda-env-plotting-py"
  },
  "language_info": {
   "codemirror_mode": {
    "name": "ipython",
    "version": 3
   },
   "file_extension": ".py",
   "mimetype": "text/x-python",
   "name": "python",
   "nbconvert_exporter": "python",
   "pygments_lexer": "ipython3",
   "version": "3.8.17"
  }
 },
 "nbformat": 4,
 "nbformat_minor": 5
}
