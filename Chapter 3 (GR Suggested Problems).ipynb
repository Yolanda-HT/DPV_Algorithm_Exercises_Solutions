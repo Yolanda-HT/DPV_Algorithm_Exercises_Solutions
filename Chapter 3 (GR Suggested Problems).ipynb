{
 "cells": [
  {
   "cell_type": "markdown",
   "id": "52f6f0b9",
   "metadata": {},
   "source": [
    "## 3.1: \"Perform a depth-first search on the following graph..."
   ]
  },
  {
   "cell_type": "code",
   "execution_count": null,
   "id": "a12b8075",
   "metadata": {},
   "outputs": [],
   "source": []
  },
  {
   "cell_type": "markdown",
   "id": "45756430",
   "metadata": {},
   "source": [
    "## 3.2: \"Perform depth-first search on each of the following graphs...\""
   ]
  },
  {
   "cell_type": "code",
   "execution_count": null,
   "id": "34244f34",
   "metadata": {},
   "outputs": [],
   "source": []
  },
  {
   "cell_type": "markdown",
   "id": "14262be8",
   "metadata": {},
   "source": [
    "## 3.7: \"A bipartite graph is a graph...\""
   ]
  },
  {
   "cell_type": "code",
   "execution_count": null,
   "id": "f5cb9387",
   "metadata": {},
   "outputs": [],
   "source": []
  },
  {
   "cell_type": "markdown",
   "id": "71e2bb65",
   "metadata": {},
   "source": [
    "## 3.8: \"Pouring Water\""
   ]
  },
  {
   "cell_type": "code",
   "execution_count": null,
   "id": "677eab9e",
   "metadata": {},
   "outputs": [],
   "source": []
  },
  {
   "cell_type": "markdown",
   "id": "99d18d30",
   "metadata": {},
   "source": [
    "## 3.11: \"Design a linear-time algorithm...\""
   ]
  },
  {
   "cell_type": "code",
   "execution_count": null,
   "id": "f6d8fd35",
   "metadata": {},
   "outputs": [],
   "source": []
  },
  {
   "cell_type": "markdown",
   "id": "a950588b",
   "metadata": {},
   "source": [
    "## 3.16: \"Suppose a CS curriculum...\"\n",
    "\n"
   ]
  },
  {
   "cell_type": "code",
   "execution_count": null,
   "id": "7a83c67f",
   "metadata": {},
   "outputs": [],
   "source": []
  },
  {
   "cell_type": "markdown",
   "id": "e1ce8937",
   "metadata": {},
   "source": [
    "## 3.22: \"Give an efficient algorithm which takes as input a directed graph G = (V, E)...\"\n"
   ]
  },
  {
   "cell_type": "code",
   "execution_count": null,
   "id": "62f58d25",
   "metadata": {},
   "outputs": [],
   "source": []
  },
  {
   "cell_type": "markdown",
   "id": "fe5d5fa1",
   "metadata": {},
   "source": [
    "## 3.24: \"Give a linear-time algorithm for the following task.\"\n",
    "\n"
   ]
  },
  {
   "cell_type": "code",
   "execution_count": null,
   "id": "909c8b4c",
   "metadata": {},
   "outputs": [],
   "source": []
  }
 ],
 "metadata": {
  "kernelspec": {
   "display_name": "Python [conda env:plotting]",
   "language": "python",
   "name": "conda-env-plotting-py"
  },
  "language_info": {
   "codemirror_mode": {
    "name": "ipython",
    "version": 3
   },
   "file_extension": ".py",
   "mimetype": "text/x-python",
   "name": "python",
   "nbconvert_exporter": "python",
   "pygments_lexer": "ipython3",
   "version": "3.8.17"
  }
 },
 "nbformat": 4,
 "nbformat_minor": 5
}
